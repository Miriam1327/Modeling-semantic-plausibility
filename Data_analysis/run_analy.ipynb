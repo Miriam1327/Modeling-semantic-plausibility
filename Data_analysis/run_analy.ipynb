{
 "cells": [
  {
   "cell_type": "code",
   "execution_count": 1,
   "metadata": {},
   "outputs": [
    {
     "name": "stderr",
     "output_type": "stream",
     "text": [
      "[nltk_data] Downloading package averaged_perceptron_tagger to\n",
      "[nltk_data]     /home/linux1/nltk_data...\n",
      "[nltk_data]   Package averaged_perceptron_tagger is already up-to-\n",
      "[nltk_data]       date!\n"
     ]
    }
   ],
   "source": [
    "from data_analysis import DataAnalysis,read_data\n",
    "import os"
   ]
  },
  {
   "cell_type": "code",
   "execution_count": 2,
   "metadata": {},
   "outputs": [],
   "source": [
    "def get_data(name,classnum_name,file_name):\n",
    "    '''\n",
    "    param name: name of the dataset, pep-3k or pap\n",
    "    param classnum_name: for pap dataset, binary or multiclass\n",
    "    param file_name: dev, test, train\n",
    "    return: the complete data in a list\n",
    "    '''\n",
    "    current_dir =os.path.realpath(\".\")\n",
    "    \n",
    "    parent_dir = os.path.abspath(os.path.join(current_dir, os.pardir,os.pardir))\n",
    "    return DataAnalysis(os.path.abspath(os.path.join(parent_dir,name,'train-dev-test-split',classnum_name,file_name+'.csv')))"
   ]
  },
  {
   "cell_type": "code",
   "execution_count": 3,
   "metadata": {},
   "outputs": [
    {
     "ename": "NameError",
     "evalue": "name '__file__' is not defined",
     "output_type": "error",
     "traceback": [
      "\u001b[0;31m---------------------------------------------------------------------------\u001b[0m",
      "\u001b[0;31mNameError\u001b[0m                                 Traceback (most recent call last)",
      "\u001b[1;32m/home/linux1/BOX/modeling_sematic_23w/Modeling_Semantic_Plausibility/Data_analysis/run_analy.ipynb 单元格 3\u001b[0m line \u001b[0;36m1\n\u001b[0;32m----> <a href='vscode-notebook-cell://wsl%2Bubuntu/home/linux1/BOX/modeling_sematic_23w/Modeling_Semantic_Plausibility/Data_analysis/run_analy.ipynb#W3sdnNjb2RlLXJlbW90ZQ%3D%3D?line=0'>1</a>\u001b[0m pep_set\u001b[39m=\u001b[39mget_data(\u001b[39m'\u001b[39;49m\u001b[39mpap\u001b[39;49m\u001b[39m'\u001b[39;49m,\u001b[39m'\u001b[39;49m\u001b[39mbinary\u001b[39;49m\u001b[39m'\u001b[39;49m,\u001b[39m'\u001b[39;49m\u001b[39mtrain\u001b[39;49m\u001b[39m'\u001b[39;49m)\n",
      "\u001b[1;32m/home/linux1/BOX/modeling_sematic_23w/Modeling_Semantic_Plausibility/Data_analysis/run_analy.ipynb 单元格 3\u001b[0m line \u001b[0;36m8\n\u001b[1;32m      <a href='vscode-notebook-cell://wsl%2Bubuntu/home/linux1/BOX/modeling_sematic_23w/Modeling_Semantic_Plausibility/Data_analysis/run_analy.ipynb#W3sdnNjb2RlLXJlbW90ZQ%3D%3D?line=0'>1</a>\u001b[0m \u001b[39mdef\u001b[39;00m \u001b[39mget_data\u001b[39m(name,classnum_name,file_name):\n\u001b[1;32m      <a href='vscode-notebook-cell://wsl%2Bubuntu/home/linux1/BOX/modeling_sematic_23w/Modeling_Semantic_Plausibility/Data_analysis/run_analy.ipynb#W3sdnNjb2RlLXJlbW90ZQ%3D%3D?line=1'>2</a>\u001b[0m \u001b[39m    \u001b[39m\u001b[39m'''\u001b[39;00m\n\u001b[1;32m      <a href='vscode-notebook-cell://wsl%2Bubuntu/home/linux1/BOX/modeling_sematic_23w/Modeling_Semantic_Plausibility/Data_analysis/run_analy.ipynb#W3sdnNjb2RlLXJlbW90ZQ%3D%3D?line=2'>3</a>\u001b[0m \u001b[39m    param name: name of the dataset, pep-3k or pap\u001b[39;00m\n\u001b[1;32m      <a href='vscode-notebook-cell://wsl%2Bubuntu/home/linux1/BOX/modeling_sematic_23w/Modeling_Semantic_Plausibility/Data_analysis/run_analy.ipynb#W3sdnNjb2RlLXJlbW90ZQ%3D%3D?line=3'>4</a>\u001b[0m \u001b[39m    param classnum_name: for pap dataset, binary or multiclass\u001b[39;00m\n\u001b[1;32m      <a href='vscode-notebook-cell://wsl%2Bubuntu/home/linux1/BOX/modeling_sematic_23w/Modeling_Semantic_Plausibility/Data_analysis/run_analy.ipynb#W3sdnNjb2RlLXJlbW90ZQ%3D%3D?line=4'>5</a>\u001b[0m \u001b[39m    param file_name: dev, test, train\u001b[39;00m\n\u001b[1;32m      <a href='vscode-notebook-cell://wsl%2Bubuntu/home/linux1/BOX/modeling_sematic_23w/Modeling_Semantic_Plausibility/Data_analysis/run_analy.ipynb#W3sdnNjb2RlLXJlbW90ZQ%3D%3D?line=5'>6</a>\u001b[0m \u001b[39m    return: the complete data in a list\u001b[39;00m\n\u001b[1;32m      <a href='vscode-notebook-cell://wsl%2Bubuntu/home/linux1/BOX/modeling_sematic_23w/Modeling_Semantic_Plausibility/Data_analysis/run_analy.ipynb#W3sdnNjb2RlLXJlbW90ZQ%3D%3D?line=6'>7</a>\u001b[0m \u001b[39m    '''\u001b[39;00m\n\u001b[0;32m----> <a href='vscode-notebook-cell://wsl%2Bubuntu/home/linux1/BOX/modeling_sematic_23w/Modeling_Semantic_Plausibility/Data_analysis/run_analy.ipynb#W3sdnNjb2RlLXJlbW90ZQ%3D%3D?line=7'>8</a>\u001b[0m     current_dir \u001b[39m=\u001b[39m os\u001b[39m.\u001b[39mpath\u001b[39m.\u001b[39mabspath(os\u001b[39m.\u001b[39mpath\u001b[39m.\u001b[39mdirname(\u001b[39m__file__\u001b[39;49m))\n\u001b[1;32m      <a href='vscode-notebook-cell://wsl%2Bubuntu/home/linux1/BOX/modeling_sematic_23w/Modeling_Semantic_Plausibility/Data_analysis/run_analy.ipynb#W3sdnNjb2RlLXJlbW90ZQ%3D%3D?line=8'>9</a>\u001b[0m     parent_dir \u001b[39m=\u001b[39m os\u001b[39m.\u001b[39mpath\u001b[39m.\u001b[39mabspath(os\u001b[39m.\u001b[39mpath\u001b[39m.\u001b[39mjoin(current_dir, os\u001b[39m.\u001b[39mpardir,os\u001b[39m.\u001b[39mpardir))\n\u001b[1;32m     <a href='vscode-notebook-cell://wsl%2Bubuntu/home/linux1/BOX/modeling_sematic_23w/Modeling_Semantic_Plausibility/Data_analysis/run_analy.ipynb#W3sdnNjb2RlLXJlbW90ZQ%3D%3D?line=9'>10</a>\u001b[0m     \u001b[39mreturn\u001b[39;00m DataAnalysis(os\u001b[39m.\u001b[39mpath\u001b[39m.\u001b[39mabspath(os\u001b[39m.\u001b[39mpath\u001b[39m.\u001b[39mjoin(parent_dir,name,\u001b[39m'\u001b[39m\u001b[39mtrain-dev-test-split\u001b[39m\u001b[39m'\u001b[39m,classnum_name,file_name\u001b[39m+\u001b[39m\u001b[39m'\u001b[39m\u001b[39m.csv\u001b[39m\u001b[39m'\u001b[39m)))\n",
      "\u001b[0;31mNameError\u001b[0m: name '__file__' is not defined"
     ]
    }
   ],
   "source": [
    "pep_set=get_data('pap','binary','train')"
   ]
  },
  {
   "cell_type": "code",
   "execution_count": 6,
   "metadata": {},
   "outputs": [
    {
     "name": "stdout",
     "output_type": "stream",
     "text": [
      "/home/linux1/BOX/modeling_sematic_23w/Modeling_Semantic_Plausibility\n"
     ]
    }
   ],
   "source": [
    "print()"
   ]
  },
  {
   "cell_type": "code",
   "execution_count": null,
   "metadata": {},
   "outputs": [],
   "source": []
  },
  {
   "cell_type": "code",
   "execution_count": null,
   "metadata": {},
   "outputs": [],
   "source": []
  }
 ],
 "metadata": {
  "kernelspec": {
   "display_name": "23w_modeling",
   "language": "python",
   "name": "python3"
  },
  "language_info": {
   "codemirror_mode": {
    "name": "ipython",
    "version": 3
   },
   "file_extension": ".py",
   "mimetype": "text/x-python",
   "name": "python",
   "nbconvert_exporter": "python",
   "pygments_lexer": "ipython3",
   "version": "3.9.0"
  }
 },
 "nbformat": 4,
 "nbformat_minor": 2
}
