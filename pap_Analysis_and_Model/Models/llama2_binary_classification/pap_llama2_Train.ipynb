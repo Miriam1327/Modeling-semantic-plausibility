{
 "cells": [
  {
   "cell_type": "code",
   "execution_count": 1,
   "metadata": {},
   "outputs": [
    {
     "name": "stderr",
     "output_type": "stream",
     "text": [
      "/home/linux1/miniconda3/envs/llama2pep/lib/python3.9/site-packages/tqdm/auto.py:21: TqdmWarning: IProgress not found. Please update jupyter and ipywidgets. See https://ipywidgets.readthedocs.io/en/stable/user_install.html\n",
      "  from .autonotebook import tqdm as notebook_tqdm\n",
      "/home/linux1/miniconda3/envs/llama2pep/lib/python3.9/site-packages/transformers/utils/generic.py:441: UserWarning: torch.utils._pytree._register_pytree_node is deprecated. Please use torch.utils._pytree.register_pytree_node instead.\n",
      "  _torch_pytree._register_pytree_node(\n",
      "/home/linux1/miniconda3/envs/llama2pep/lib/python3.9/site-packages/transformers/utils/generic.py:309: UserWarning: torch.utils._pytree._register_pytree_node is deprecated. Please use torch.utils._pytree.register_pytree_node instead.\n",
      "  _torch_pytree._register_pytree_node(\n"
     ]
    }
   ],
   "source": [
    "import os\n",
    "import torch\n",
    "from accelerate import Accelerator\n",
    "\n",
    "from llama2_Model import  llama2_7b_Model_peft\n",
    "from pap_Dataloader import pap_Dataloader\n",
    "from evaluation import get_accuracy, get_precision_recall"
   ]
  },
  {
   "cell_type": "code",
   "execution_count": 2,
   "metadata": {},
   "outputs": [
    {
     "name": "stdout",
     "output_type": "stream",
     "text": [
      "Wed Jan 17 18:44:19 2024       \n",
      "+---------------------------------------------------------------------------------------+\n",
      "| NVIDIA-SMI 545.29.01              Driver Version: 546.01       CUDA Version: 12.3     |\n",
      "|-----------------------------------------+----------------------+----------------------+\n",
      "| GPU  Name                 Persistence-M | Bus-Id        Disp.A | Volatile Uncorr. ECC |\n",
      "| Fan  Temp   Perf          Pwr:Usage/Cap |         Memory-Usage | GPU-Util  Compute M. |\n",
      "|                                         |                      |               MIG M. |\n",
      "|=========================================+======================+======================|\n",
      "|   0  NVIDIA GeForce RTX 4060 ...    On  | 00000000:01:00.0 Off |                  N/A |\n",
      "| N/A   44C    P0              11W /  80W |      0MiB /  8188MiB |      0%      Default |\n",
      "|                                         |                      |                  N/A |\n",
      "+-----------------------------------------+----------------------+----------------------+\n",
      "                                                                                         \n",
      "+---------------------------------------------------------------------------------------+\n",
      "| Processes:                                                                            |\n",
      "|  GPU   GI   CI        PID   Type   Process name                            GPU Memory |\n",
      "|        ID   ID                                                             Usage      |\n",
      "|=======================================================================================|\n",
      "|  No running processes found                                                           |\n",
      "+---------------------------------------------------------------------------------------+\n"
     ]
    }
   ],
   "source": [
    "! nvidia-smi"
   ]
  },
  {
   "cell_type": "markdown",
   "metadata": {},
   "source": [
    "### Get model and dataloader"
   ]
  },
  {
   "cell_type": "code",
   "execution_count": 3,
   "metadata": {},
   "outputs": [],
   "source": [
    "def get_filepath(name,classnum_name,file_name):\n",
    "    '''\n",
    "    param name: name of the dataset, pep-3k or pap\n",
    "    param classnum_name: for pap dataset, binary or multiclass\n",
    "    param file_name: dev, test, train\n",
    "    return: the str of apath of the file\n",
    "    '''\n",
    "    current_dir =os.path.realpath(\".\")\n",
    "    parent_dir = os.path.abspath(os.path.join(current_dir, os.pardir))\n",
    "    if name=='pap':\n",
    "        filepath=os.path.abspath(os.path.join(parent_dir,'Data',name,'train-dev-test-split-filtered',classnum_name,file_name+'.csv'))\n",
    "    else:\n",
    "        filepath=os.path.abspath(os.path.join(parent_dir,'Data',name,'train-dev-test-split',classnum_name,file_name+'.csv'))\n",
    "    print(filepath)\n",
    "    return filepath\n"
   ]
  },
  {
   "cell_type": "code",
   "execution_count": 4,
   "metadata": {},
   "outputs": [
    {
     "name": "stdout",
     "output_type": "stream",
     "text": [
      "/home/linux1/BOX/modeling23/Data/pap/train-dev-test-split-filtered/binary/train.csv\n",
      "/home/linux1/BOX/modeling23/Data/pap/train-dev-test-split-filtered/binary/dev.csv\n",
      "/home/linux1/BOX/modeling23/Data/pap/train-dev-test-split-filtered/binary/test.csv\n"
     ]
    }
   ],
   "source": [
    "# Model from Hugging Face hub\n",
    "base_model= \"meta-llama/Llama-2-7b-hf\"\n",
    "\n",
    "filepath1=get_filepath('pap','binary','train')\n",
    "filepath2=get_filepath('pap','binary','dev')\n",
    "filepath3=get_filepath('pap','binary','test')\n"
   ]
  },
  {
   "cell_type": "code",
   "execution_count": 5,
   "metadata": {},
   "outputs": [
    {
     "name": "stderr",
     "output_type": "stream",
     "text": [
      "Loading checkpoint shards: 100%|██████████| 2/2 [00:11<00:00,  5.73s/it]\n",
      "Some weights of LlamaForSequenceClassification were not initialized from the model checkpoint at meta-llama/Llama-2-7b-hf and are newly initialized: ['score.weight']\n",
      "You should probably TRAIN this model on a down-stream task to be able to use it for predictions and inference.\n"
     ]
    },
    {
     "name": "stdout",
     "output_type": "stream",
     "text": [
      "Original number of parameters: 6607351808\n",
      "LlamaForSequenceClassification(\n",
      "  (model): LlamaModel(\n",
      "    (embed_tokens): Embedding(32000, 4096)\n",
      "    (layers): ModuleList(\n",
      "      (0-31): 32 x LlamaDecoderLayer(\n",
      "        (self_attn): LlamaSdpaAttention(\n",
      "          (q_proj): Linear8bitLt(in_features=4096, out_features=4096, bias=False)\n",
      "          (k_proj): Linear8bitLt(in_features=4096, out_features=4096, bias=False)\n",
      "          (v_proj): Linear8bitLt(in_features=4096, out_features=4096, bias=False)\n",
      "          (o_proj): Linear8bitLt(in_features=4096, out_features=4096, bias=False)\n",
      "          (rotary_emb): LlamaRotaryEmbedding()\n",
      "        )\n",
      "        (mlp): LlamaMLP(\n",
      "          (gate_proj): Linear8bitLt(in_features=4096, out_features=11008, bias=False)\n",
      "          (up_proj): Linear8bitLt(in_features=4096, out_features=11008, bias=False)\n",
      "          (down_proj): Linear8bitLt(in_features=11008, out_features=4096, bias=False)\n",
      "          (act_fn): SiLU()\n",
      "        )\n",
      "        (input_layernorm): LlamaRMSNorm()\n",
      "        (post_attention_layernorm): LlamaRMSNorm()\n",
      "      )\n",
      "    )\n",
      "    (norm): LlamaRMSNorm()\n",
      "  )\n",
      "  (score): Linear(in_features=4096, out_features=2, bias=False)\n",
      ")\n"
     ]
    },
    {
     "name": "stderr",
     "output_type": "stream",
     "text": [
      "Loading checkpoint shards: 100%|██████████| 2/2 [00:26<00:00, 13.23s/it]\n",
      "Some weights of LlamaForSequenceClassification were not initialized from the model checkpoint at meta-llama/Llama-2-7b-hf and are newly initialized: ['score.weight']\n",
      "You should probably TRAIN this model on a down-stream task to be able to use it for predictions and inference.\n"
     ]
    },
    {
     "name": "stdout",
     "output_type": "stream",
     "text": [
      "Original number of parameters: 6607351808\n",
      "LlamaForSequenceClassification(\n",
      "  (model): LlamaModel(\n",
      "    (embed_tokens): Embedding(32000, 4096)\n",
      "    (layers): ModuleList(\n",
      "      (0-31): 32 x LlamaDecoderLayer(\n",
      "        (self_attn): LlamaSdpaAttention(\n",
      "          (q_proj): Linear8bitLt(in_features=4096, out_features=4096, bias=False)\n",
      "          (k_proj): Linear8bitLt(in_features=4096, out_features=4096, bias=False)\n",
      "          (v_proj): Linear8bitLt(in_features=4096, out_features=4096, bias=False)\n",
      "          (o_proj): Linear8bitLt(in_features=4096, out_features=4096, bias=False)\n",
      "          (rotary_emb): LlamaRotaryEmbedding()\n",
      "        )\n",
      "        (mlp): LlamaMLP(\n",
      "          (gate_proj): Linear8bitLt(in_features=4096, out_features=11008, bias=False)\n",
      "          (up_proj): Linear8bitLt(in_features=4096, out_features=11008, bias=False)\n",
      "          (down_proj): Linear8bitLt(in_features=11008, out_features=4096, bias=False)\n",
      "          (act_fn): SiLU()\n",
      "        )\n",
      "        (input_layernorm): LlamaRMSNorm()\n",
      "        (post_attention_layernorm): LlamaRMSNorm()\n",
      "      )\n",
      "    )\n",
      "    (norm): LlamaRMSNorm()\n",
      "  )\n",
      "  (score): Linear(in_features=4096, out_features=2, bias=False)\n",
      ")\n",
      "trainable params: 4,194,304 || all params: 6,611,546,112 || trainable%: 0.06343907958816639\n"
     ]
    }
   ],
   "source": [
    "model = llama2_7b_Model_peft(base_model)\n",
    "tokenizer = model.tokenizer"
   ]
  },
  {
   "cell_type": "code",
   "execution_count": 6,
   "metadata": {},
   "outputs": [
    {
     "name": "stdout",
     "output_type": "stream",
     "text": [
      "Dataset({\n",
      "    features: ['text', 'labels'],\n",
      "    num_rows: 1386\n",
      "})\n",
      "Dataset({\n",
      "    features: ['text', 'labels'],\n",
      "    num_rows: 1386\n",
      "})\n"
     ]
    },
    {
     "name": "stderr",
     "output_type": "stream",
     "text": [
      "Map:   0%|          | 0/1386 [00:00<?, ? examples/s]Asking to truncate to max_length but no maximum length is provided and the model has no predefined maximum length. Default to no truncation.\n",
      "Map: 100%|██████████| 1386/1386 [00:00<00:00, 20276.76 examples/s]\n"
     ]
    },
    {
     "name": "stdout",
     "output_type": "stream",
     "text": [
      "Dataset({\n",
      "    features: ['text', 'labels'],\n",
      "    num_rows: 173\n",
      "})\n",
      "Dataset({\n",
      "    features: ['text', 'labels'],\n",
      "    num_rows: 173\n",
      "})\n"
     ]
    },
    {
     "name": "stderr",
     "output_type": "stream",
     "text": [
      "Map: 100%|██████████| 173/173 [00:00<00:00, 15718.19 examples/s]\n"
     ]
    },
    {
     "name": "stdout",
     "output_type": "stream",
     "text": [
      "Dataset({\n",
      "    features: ['text', 'labels'],\n",
      "    num_rows: 174\n",
      "})\n",
      "Dataset({\n",
      "    features: ['text', 'labels'],\n",
      "    num_rows: 174\n",
      "})\n"
     ]
    },
    {
     "name": "stderr",
     "output_type": "stream",
     "text": [
      "Map: 100%|██████████| 174/174 [00:00<00:00, 16493.60 examples/s]\n"
     ]
    }
   ],
   "source": [
    "train_dataloader=pap_Dataloader(filepath1,tokenizer,3)\n",
    "eval_dataloader=pap_Dataloader(filepath2,tokenizer,'defalut')\n",
    "test_dataloader=pap_Dataloader(filepath3,tokenizer,'defalut')"
   ]
  },
  {
   "cell_type": "markdown",
   "metadata": {},
   "source": [
    "### Check original model with test data"
   ]
  },
  {
   "cell_type": "code",
   "execution_count": 7,
   "metadata": {},
   "outputs": [
    {
     "name": "stderr",
     "output_type": "stream",
     "text": [
      "/home/linux1/miniconda3/envs/llama2pep/lib/python3.9/site-packages/bitsandbytes/autograd/_functions.py:322: UserWarning: MatMul8bitLt: inputs will be cast from torch.float32 to float16 during quantization\n",
      "  warnings.warn(f\"MatMul8bitLt: inputs will be cast from {A.dtype} to float16 during quantization\")\n"
     ]
    },
    {
     "name": "stdout",
     "output_type": "stream",
     "text": [
      "Accuracy: 0.414\n",
      "---positive is plausible\n",
      "Precision: 0.469\n",
      "Recall: 0.558\n",
      "F-score: 0.510\n",
      "---positive is implausible\n",
      "Precision: 0.311\n",
      "Recall: 0.241\n",
      "F-score: 0.271\n"
     ]
    }
   ],
   "source": [
    "model.do_reference(test_dataloader.dataloader)"
   ]
  },
  {
   "cell_type": "markdown",
   "metadata": {},
   "source": [
    "### Train"
   ]
  },
  {
   "cell_type": "code",
   "execution_count": 8,
   "metadata": {},
   "outputs": [
    {
     "name": "stdout",
     "output_type": "stream",
     "text": [
      "cuda\n"
     ]
    }
   ],
   "source": [
    "from torch.optim import AdamW\n",
    "from tqdm.auto import tqdm\n",
    "import torch.nn as nn\n",
    "from transformers import get_scheduler\n",
    "\n",
    "optimizer = AdamW(model.model.parameters(), lr=1e-4 )#5e-5)\n",
    "loss_fn = nn.CrossEntropyLoss()\n",
    "\n",
    "num_epochs = 3\n",
    "num_training_steps = num_epochs * len(train_dataloader.dataset)\n",
    "\n",
    "#learning rate adjustment:\n",
    "lr_scheduler = get_scheduler( \n",
    "    name=\"linear\", optimizer=optimizer, num_warmup_steps=0, num_training_steps=num_training_steps\n",
    ")\n",
    "\n",
    "device = torch.device(\"cuda\") if torch.cuda.is_available() else torch.device(\"cpu\")\n",
    "print(device)"
   ]
  },
  {
   "cell_type": "code",
   "execution_count": 9,
   "metadata": {},
   "outputs": [],
   "source": [
    "accelerator = Accelerator()\n",
    "train_dataloader, eval_dataloader, model, optimizer = accelerator.prepare(\n",
    "    train_dataloader.dataloader, eval_dataloader.dataloader, model.model, optimizer\n",
    ")\n",
    "loss_list=[]\n",
    "accuracy_list=[]\n",
    "loss_sum=0\n",
    "accuracy_sum=0\n"
   ]
  },
  {
   "cell_type": "code",
   "execution_count": 10,
   "metadata": {},
   "outputs": [
    {
     "name": "stdout",
     "output_type": "stream",
     "text": [
      "3\n",
      "462\n",
      "1386\n",
      "69.3\n",
      "thelabels: tensor([1, 0, 0], device='cuda:0')\n",
      "text: {'input_ids': tensor([[    1, 10225, 11981,  3234,  2068,     2,     2,     2,     2,     2,\n",
      "             2,     2,     2],\n",
      "        [    1,  9027,  2756,   506,  1372, 12875,     2,     2,     2,     2,\n",
      "             2,     2,     2],\n",
      "        [    1,   767,   766,   771,  1960,  6012,     2,     2,     2,     2,\n",
      "             2,     2,     2]], device='cuda:0'), 'attention_mask': tensor([[1, 1, 1, 1, 1, 0, 0, 0, 0, 0, 0, 0, 0],\n",
      "        [1, 1, 1, 1, 1, 1, 0, 0, 0, 0, 0, 0, 0],\n",
      "        [1, 1, 1, 1, 1, 1, 0, 0, 0, 0, 0, 0, 0]], device='cuda:0')}\n"
     ]
    }
   ],
   "source": [
    "print(num_epochs)\n",
    "print(len(train_dataloader))\n",
    "num_training_steps = num_epochs * len(train_dataloader)\n",
    "print(num_training_steps)\n",
    "print(num_training_steps/20)\n",
    "# print(int(num_training_steps/30))\n",
    "for thelabels,text in train_dataloader:\n",
    "    print('thelabels:',thelabels)\n",
    "    print('text:',text)\n",
    "    break"
   ]
  },
  {
   "cell_type": "code",
   "execution_count": 11,
   "metadata": {},
   "outputs": [
    {
     "name": "stderr",
     "output_type": "stream",
     "text": [
      "  0%|          | 0/69 [00:00<?, ?it/s]/home/linux1/miniconda3/envs/llama2pep/lib/python3.9/site-packages/torch/utils/checkpoint.py:460: UserWarning: torch.utils.checkpoint: please pass in use_reentrant=True or use_reentrant=False explicitly. The default value of use_reentrant will be updated to be False in the future. To maintain current behavior, pass use_reentrant=True. It is recommended that you use use_reentrant=False. Refer to docs for more details on the differences between the two variants.\n",
      "  warnings.warn(\n",
      "  1%|▏         | 1/69 [00:38<43:15, 38.17s/it]"
     ]
    },
    {
     "name": "stdout",
     "output_type": "stream",
     "text": [
      "20 0.6 0.4333333333333334\n"
     ]
    },
    {
     "name": "stderr",
     "output_type": "stream",
     "text": [
      "  3%|▎         | 2/69 [01:16<42:35, 38.14s/it]"
     ]
    },
    {
     "name": "stdout",
     "output_type": "stream",
     "text": [
      "40 0.6 0.45833333333333337\n"
     ]
    },
    {
     "name": "stderr",
     "output_type": "stream",
     "text": [
      "  4%|▍         | 3/69 [01:54<41:52, 38.07s/it]"
     ]
    },
    {
     "name": "stdout",
     "output_type": "stream",
     "text": [
      "60 0.5666666666666667 0.4555555555555557\n"
     ]
    },
    {
     "name": "stderr",
     "output_type": "stream",
     "text": [
      "  6%|▌         | 4/69 [02:32<41:26, 38.26s/it]"
     ]
    },
    {
     "name": "stdout",
     "output_type": "stream",
     "text": [
      "80 0.4625 0.5125000000000001\n"
     ]
    },
    {
     "name": "stderr",
     "output_type": "stream",
     "text": [
      "  7%|▋         | 5/69 [03:09<40:13, 37.72s/it]"
     ]
    },
    {
     "name": "stdout",
     "output_type": "stream",
     "text": [
      "100 0.43 0.5466666666666667\n"
     ]
    },
    {
     "name": "stderr",
     "output_type": "stream",
     "text": [
      "  9%|▊         | 6/69 [03:47<39:40, 37.79s/it]"
     ]
    },
    {
     "name": "stdout",
     "output_type": "stream",
     "text": [
      "120 0.375 0.5805555555555557\n"
     ]
    },
    {
     "name": "stderr",
     "output_type": "stream",
     "text": [
      " 10%|█         | 7/69 [04:24<38:37, 37.39s/it]"
     ]
    },
    {
     "name": "stdout",
     "output_type": "stream",
     "text": [
      "140 0.3357142857142857 0.6047619047619052\n"
     ]
    },
    {
     "name": "stderr",
     "output_type": "stream",
     "text": [
      " 12%|█▏        | 8/69 [05:01<38:01, 37.41s/it]"
     ]
    },
    {
     "name": "stdout",
     "output_type": "stream",
     "text": [
      "160 0.30625 0.6270833333333339\n"
     ]
    },
    {
     "name": "stderr",
     "output_type": "stream",
     "text": [
      " 13%|█▎        | 9/69 [05:38<37:18, 37.30s/it]"
     ]
    },
    {
     "name": "stdout",
     "output_type": "stream",
     "text": [
      "180 0.2777777777777778 0.6462962962962967\n"
     ]
    },
    {
     "name": "stderr",
     "output_type": "stream",
     "text": [
      " 14%|█▍        | 10/69 [06:15<36:39, 37.28s/it]"
     ]
    },
    {
     "name": "stdout",
     "output_type": "stream",
     "text": [
      "200 0.26 0.6633333333333337\n"
     ]
    },
    {
     "name": "stderr",
     "output_type": "stream",
     "text": [
      " 16%|█▌        | 11/69 [06:52<35:52, 37.11s/it]"
     ]
    },
    {
     "name": "stdout",
     "output_type": "stream",
     "text": [
      "220 0.23636363636363636 0.6833333333333333\n"
     ]
    },
    {
     "name": "stderr",
     "output_type": "stream",
     "text": [
      " 17%|█▋        | 12/69 [07:29<35:10, 37.03s/it]"
     ]
    },
    {
     "name": "stdout",
     "output_type": "stream",
     "text": [
      "240 0.22916666666666666 0.6972222222222221\n"
     ]
    },
    {
     "name": "stderr",
     "output_type": "stream",
     "text": [
      " 19%|█▉        | 13/69 [08:07<34:45, 37.25s/it]"
     ]
    },
    {
     "name": "stdout",
     "output_type": "stream",
     "text": [
      "260 0.21153846153846154 0.7128205128205124\n"
     ]
    },
    {
     "name": "stderr",
     "output_type": "stream",
     "text": [
      " 20%|██        | 14/69 [08:44<34:13, 37.34s/it]"
     ]
    },
    {
     "name": "stdout",
     "output_type": "stream",
     "text": [
      "280 0.20357142857142857 0.7249999999999995\n"
     ]
    },
    {
     "name": "stderr",
     "output_type": "stream",
     "text": [
      " 22%|██▏       | 15/69 [09:22<33:44, 37.48s/it]"
     ]
    },
    {
     "name": "stdout",
     "output_type": "stream",
     "text": [
      "300 0.19333333333333333 0.7299999999999994\n"
     ]
    },
    {
     "name": "stderr",
     "output_type": "stream",
     "text": [
      " 23%|██▎       | 16/69 [10:00<33:12, 37.60s/it]"
     ]
    },
    {
     "name": "stdout",
     "output_type": "stream",
     "text": [
      "320 0.184375 0.7343749999999991\n"
     ]
    },
    {
     "name": "stderr",
     "output_type": "stream",
     "text": [
      " 25%|██▍       | 17/69 [10:36<32:04, 37.02s/it]"
     ]
    },
    {
     "name": "stdout",
     "output_type": "stream",
     "text": [
      "340 0.17941176470588235 0.7401960784313715\n"
     ]
    },
    {
     "name": "stderr",
     "output_type": "stream",
     "text": [
      " 26%|██▌       | 18/69 [11:12<31:25, 36.97s/it]"
     ]
    },
    {
     "name": "stdout",
     "output_type": "stream",
     "text": [
      "360 0.175 0.7453703703703697\n"
     ]
    },
    {
     "name": "stderr",
     "output_type": "stream",
     "text": [
      " 28%|██▊       | 19/69 [11:49<30:40, 36.82s/it]"
     ]
    },
    {
     "name": "stdout",
     "output_type": "stream",
     "text": [
      "380 0.16842105263157894 0.7499999999999999\n"
     ]
    },
    {
     "name": "stderr",
     "output_type": "stream",
     "text": [
      " 29%|██▉       | 20/69 [12:26<30:15, 37.06s/it]"
     ]
    },
    {
     "name": "stdout",
     "output_type": "stream",
     "text": [
      "400 0.165 0.7558333333333332\n"
     ]
    },
    {
     "name": "stderr",
     "output_type": "stream",
     "text": [
      " 30%|███       | 21/69 [13:04<29:44, 37.17s/it]"
     ]
    },
    {
     "name": "stdout",
     "output_type": "stream",
     "text": [
      "420 0.15714285714285714 0.7595238095238099\n"
     ]
    },
    {
     "name": "stderr",
     "output_type": "stream",
     "text": [
      " 32%|███▏      | 22/69 [13:41<29:01, 37.05s/it]"
     ]
    },
    {
     "name": "stdout",
     "output_type": "stream",
     "text": [
      "440 0.16590909090909092 0.7621212121212128\n"
     ]
    },
    {
     "name": "stderr",
     "output_type": "stream",
     "text": [
      " 33%|███▎      | 23/69 [14:17<28:15, 36.85s/it]"
     ]
    },
    {
     "name": "stdout",
     "output_type": "stream",
     "text": [
      "460 0.1608695652173913 0.7681159420289864\n"
     ]
    },
    {
     "name": "stderr",
     "output_type": "stream",
     "text": [
      " 35%|███▍      | 24/69 [14:54<27:42, 36.94s/it]"
     ]
    },
    {
     "name": "stdout",
     "output_type": "stream",
     "text": [
      "480 0.15625 0.7743055555555566\n"
     ]
    },
    {
     "name": "stderr",
     "output_type": "stream",
     "text": [
      " 36%|███▌      | 25/69 [15:32<27:12, 37.11s/it]"
     ]
    },
    {
     "name": "stdout",
     "output_type": "stream",
     "text": [
      "500 0.15 0.7813333333333344\n"
     ]
    },
    {
     "name": "stderr",
     "output_type": "stream",
     "text": [
      " 38%|███▊      | 26/69 [16:10<26:47, 37.39s/it]"
     ]
    },
    {
     "name": "stdout",
     "output_type": "stream",
     "text": [
      "520 0.15 0.7833333333333345\n"
     ]
    },
    {
     "name": "stderr",
     "output_type": "stream",
     "text": [
      " 39%|███▉      | 27/69 [16:47<26:13, 37.46s/it]"
     ]
    },
    {
     "name": "stdout",
     "output_type": "stream",
     "text": [
      "540 0.14444444444444443 0.7882716049382729\n"
     ]
    },
    {
     "name": "stderr",
     "output_type": "stream",
     "text": [
      " 41%|████      | 28/69 [17:24<25:20, 37.09s/it]"
     ]
    },
    {
     "name": "stdout",
     "output_type": "stream",
     "text": [
      "560 0.1392857142857143 0.7934523809523824\n"
     ]
    },
    {
     "name": "stderr",
     "output_type": "stream",
     "text": [
      " 42%|████▏     | 29/69 [18:00<24:39, 36.98s/it]"
     ]
    },
    {
     "name": "stdout",
     "output_type": "stream",
     "text": [
      "580 0.13620689655172413 0.794827586206898\n"
     ]
    },
    {
     "name": "stderr",
     "output_type": "stream",
     "text": [
      " 43%|████▎     | 30/69 [18:37<24:03, 37.02s/it]"
     ]
    },
    {
     "name": "stdout",
     "output_type": "stream",
     "text": [
      "600 0.13333333333333333 0.7977777777777793\n"
     ]
    },
    {
     "name": "stderr",
     "output_type": "stream",
     "text": [
      " 45%|████▍     | 31/69 [19:14<23:17, 36.79s/it]"
     ]
    },
    {
     "name": "stdout",
     "output_type": "stream",
     "text": [
      "620 0.13225806451612904 0.80215053763441\n"
     ]
    },
    {
     "name": "stderr",
     "output_type": "stream",
     "text": [
      " 46%|████▋     | 32/69 [19:51<22:44, 36.88s/it]"
     ]
    },
    {
     "name": "stdout",
     "output_type": "stream",
     "text": [
      "640 0.128125 0.8067708333333348\n"
     ]
    },
    {
     "name": "stderr",
     "output_type": "stream",
     "text": [
      " 48%|████▊     | 33/69 [20:28<22:09, 36.92s/it]"
     ]
    },
    {
     "name": "stdout",
     "output_type": "stream",
     "text": [
      "660 0.12424242424242424 0.8075757575757584\n"
     ]
    },
    {
     "name": "stderr",
     "output_type": "stream",
     "text": [
      " 49%|████▉     | 34/69 [21:04<21:28, 36.83s/it]"
     ]
    },
    {
     "name": "stdout",
     "output_type": "stream",
     "text": [
      "680 0.12205882352941176 0.8102941176470595\n"
     ]
    },
    {
     "name": "stderr",
     "output_type": "stream",
     "text": [
      " 51%|█████     | 35/69 [21:41<20:53, 36.88s/it]"
     ]
    },
    {
     "name": "stdout",
     "output_type": "stream",
     "text": [
      "700 0.11857142857142858 0.8152380952380959\n"
     ]
    },
    {
     "name": "stderr",
     "output_type": "stream",
     "text": [
      " 52%|█████▏    | 36/69 [22:18<20:10, 36.67s/it]"
     ]
    },
    {
     "name": "stdout",
     "output_type": "stream",
     "text": [
      "720 0.11805555555555555 0.8185185185185191\n"
     ]
    },
    {
     "name": "stderr",
     "output_type": "stream",
     "text": [
      " 54%|█████▎    | 37/69 [22:54<19:32, 36.63s/it]"
     ]
    },
    {
     "name": "stdout",
     "output_type": "stream",
     "text": [
      "740 0.11621621621621622 0.8216216216216219\n"
     ]
    },
    {
     "name": "stderr",
     "output_type": "stream",
     "text": [
      " 55%|█████▌    | 38/69 [23:31<18:56, 36.65s/it]"
     ]
    },
    {
     "name": "stdout",
     "output_type": "stream",
     "text": [
      "760 0.11447368421052631 0.8258771929824564\n"
     ]
    },
    {
     "name": "stderr",
     "output_type": "stream",
     "text": [
      " 57%|█████▋    | 39/69 [24:08<18:19, 36.65s/it]"
     ]
    },
    {
     "name": "stdout",
     "output_type": "stream",
     "text": [
      "780 0.11153846153846154 0.8290598290598291\n"
     ]
    },
    {
     "name": "stderr",
     "output_type": "stream",
     "text": [
      " 58%|█████▊    | 40/69 [24:44<17:39, 36.52s/it]"
     ]
    },
    {
     "name": "stdout",
     "output_type": "stream",
     "text": [
      "800 0.11 0.8316666666666666\n"
     ]
    },
    {
     "name": "stderr",
     "output_type": "stream",
     "text": [
      " 59%|█████▉    | 41/69 [25:20<17:03, 36.55s/it]"
     ]
    },
    {
     "name": "stdout",
     "output_type": "stream",
     "text": [
      "820 0.10975609756097561 0.8337398373983737\n"
     ]
    },
    {
     "name": "stderr",
     "output_type": "stream",
     "text": [
      " 61%|██████    | 42/69 [25:57<16:31, 36.73s/it]"
     ]
    },
    {
     "name": "stdout",
     "output_type": "stream",
     "text": [
      "840 0.10714285714285714 0.837301587301587\n"
     ]
    },
    {
     "name": "stderr",
     "output_type": "stream",
     "text": [
      " 62%|██████▏   | 43/69 [26:33<15:48, 36.50s/it]"
     ]
    },
    {
     "name": "stdout",
     "output_type": "stream",
     "text": [
      "860 0.10813953488372093 0.83875968992248\n"
     ]
    },
    {
     "name": "stderr",
     "output_type": "stream",
     "text": [
      " 64%|██████▍   | 44/69 [27:09<15:07, 36.31s/it]"
     ]
    },
    {
     "name": "stdout",
     "output_type": "stream",
     "text": [
      "880 0.10681818181818181 0.8405303030303023\n"
     ]
    },
    {
     "name": "stderr",
     "output_type": "stream",
     "text": [
      " 65%|██████▌   | 45/69 [27:46<14:36, 36.53s/it]"
     ]
    },
    {
     "name": "stdout",
     "output_type": "stream",
     "text": [
      "900 0.10444444444444445 0.8429629629629621\n"
     ]
    },
    {
     "name": "stderr",
     "output_type": "stream",
     "text": [
      " 67%|██████▋   | 46/69 [28:22<13:56, 36.38s/it]"
     ]
    },
    {
     "name": "stdout",
     "output_type": "stream",
     "text": [
      "920 0.10326086956521739 0.8452898550724629\n"
     ]
    },
    {
     "name": "stderr",
     "output_type": "stream",
     "text": [
      " 68%|██████▊   | 47/69 [28:58<13:15, 36.18s/it]"
     ]
    },
    {
     "name": "stdout",
     "output_type": "stream",
     "text": [
      "940 0.10106382978723404 0.847872340425531\n"
     ]
    },
    {
     "name": "stderr",
     "output_type": "stream",
     "text": [
      " 70%|██████▉   | 48/69 [29:35<12:45, 36.43s/it]"
     ]
    },
    {
     "name": "stdout",
     "output_type": "stream",
     "text": [
      "960 0.09895833333333333 0.849999999999999\n"
     ]
    },
    {
     "name": "stderr",
     "output_type": "stream",
     "text": [
      " 71%|███████   | 49/69 [30:11<12:08, 36.41s/it]"
     ]
    },
    {
     "name": "stdout",
     "output_type": "stream",
     "text": [
      "980 0.09693877551020408 0.8523809523809512\n"
     ]
    },
    {
     "name": "stderr",
     "output_type": "stream",
     "text": [
      " 72%|███████▏  | 50/69 [30:48<11:29, 36.31s/it]"
     ]
    },
    {
     "name": "stdout",
     "output_type": "stream",
     "text": [
      "1000 0.096 0.8549999999999989\n"
     ]
    },
    {
     "name": "stderr",
     "output_type": "stream",
     "text": [
      " 74%|███████▍  | 51/69 [31:24<10:52, 36.27s/it]"
     ]
    },
    {
     "name": "stdout",
     "output_type": "stream",
     "text": [
      "1020 0.09411764705882353 0.8575163398692799\n"
     ]
    },
    {
     "name": "stderr",
     "output_type": "stream",
     "text": [
      " 75%|███████▌  | 52/69 [32:00<10:16, 36.29s/it]"
     ]
    },
    {
     "name": "stdout",
     "output_type": "stream",
     "text": [
      "1040 0.09230769230769231 0.8602564102564091\n"
     ]
    },
    {
     "name": "stderr",
     "output_type": "stream",
     "text": [
      " 77%|███████▋  | 53/69 [32:36<09:37, 36.12s/it]"
     ]
    },
    {
     "name": "stdout",
     "output_type": "stream",
     "text": [
      "1060 0.09056603773584905 0.8625786163522001\n"
     ]
    },
    {
     "name": "stderr",
     "output_type": "stream",
     "text": [
      " 78%|███████▊  | 54/69 [33:12<09:02, 36.14s/it]"
     ]
    },
    {
     "name": "stdout",
     "output_type": "stream",
     "text": [
      "1080 0.08888888888888889 0.8648148148148137\n"
     ]
    },
    {
     "name": "stderr",
     "output_type": "stream",
     "text": [
      " 80%|███████▉  | 55/69 [33:49<08:28, 36.33s/it]"
     ]
    },
    {
     "name": "stdout",
     "output_type": "stream",
     "text": [
      "1100 0.08727272727272728 0.8666666666666655\n"
     ]
    },
    {
     "name": "stderr",
     "output_type": "stream",
     "text": [
      " 81%|████████  | 56/69 [34:24<07:49, 36.15s/it]"
     ]
    },
    {
     "name": "stdout",
     "output_type": "stream",
     "text": [
      "1120 0.08571428571428572 0.8678571428571416\n"
     ]
    },
    {
     "name": "stderr",
     "output_type": "stream",
     "text": [
      " 83%|████████▎ | 57/69 [35:01<07:16, 36.40s/it]"
     ]
    },
    {
     "name": "stdout",
     "output_type": "stream",
     "text": [
      "1140 0.08508771929824561 0.8687134502923963\n"
     ]
    },
    {
     "name": "stderr",
     "output_type": "stream",
     "text": [
      " 84%|████████▍ | 58/69 [35:38<06:40, 36.44s/it]"
     ]
    },
    {
     "name": "stdout",
     "output_type": "stream",
     "text": [
      "1160 0.08362068965517241 0.8709770114942516\n"
     ]
    },
    {
     "name": "stderr",
     "output_type": "stream",
     "text": [
      " 86%|████████▌ | 59/69 [36:13<06:01, 36.11s/it]"
     ]
    },
    {
     "name": "stdout",
     "output_type": "stream",
     "text": [
      "1180 0.08220338983050847 0.8720338983050832\n"
     ]
    },
    {
     "name": "stderr",
     "output_type": "stream",
     "text": [
      " 87%|████████▋ | 60/69 [36:50<05:26, 36.28s/it]"
     ]
    },
    {
     "name": "stdout",
     "output_type": "stream",
     "text": [
      "1200 0.0825 0.8736111111111097\n"
     ]
    },
    {
     "name": "stderr",
     "output_type": "stream",
     "text": [
      " 88%|████████▊ | 61/69 [37:26<04:50, 36.33s/it]"
     ]
    },
    {
     "name": "stdout",
     "output_type": "stream",
     "text": [
      "1220 0.08114754098360656 0.8754098360655724\n"
     ]
    },
    {
     "name": "stderr",
     "output_type": "stream",
     "text": [
      " 90%|████████▉ | 62/69 [38:03<04:15, 36.45s/it]"
     ]
    },
    {
     "name": "stdout",
     "output_type": "stream",
     "text": [
      "1240 0.08064516129032258 0.8768817204301064\n"
     ]
    },
    {
     "name": "stderr",
     "output_type": "stream",
     "text": [
      " 91%|█████████▏| 63/69 [38:40<03:39, 36.65s/it]"
     ]
    },
    {
     "name": "stdout",
     "output_type": "stream",
     "text": [
      "1260 0.07936507936507936 0.8783068783068773\n"
     ]
    },
    {
     "name": "stderr",
     "output_type": "stream",
     "text": [
      " 93%|█████████▎| 64/69 [39:18<03:04, 36.85s/it]"
     ]
    },
    {
     "name": "stdout",
     "output_type": "stream",
     "text": [
      "1280 0.078125 0.8796874999999991\n"
     ]
    },
    {
     "name": "stderr",
     "output_type": "stream",
     "text": [
      " 94%|█████████▍| 65/69 [39:55<02:28, 37.02s/it]"
     ]
    },
    {
     "name": "stdout",
     "output_type": "stream",
     "text": [
      "1300 0.07692307692307693 0.8810256410256403\n"
     ]
    },
    {
     "name": "stderr",
     "output_type": "stream",
     "text": [
      " 96%|█████████▌| 66/69 [40:31<01:50, 36.85s/it]"
     ]
    },
    {
     "name": "stdout",
     "output_type": "stream",
     "text": [
      "1320 0.07575757575757576 0.8825757575757569\n"
     ]
    },
    {
     "name": "stderr",
     "output_type": "stream",
     "text": [
      " 97%|█████████▋| 67/69 [41:09<01:13, 36.99s/it]"
     ]
    },
    {
     "name": "stdout",
     "output_type": "stream",
     "text": [
      "1340 0.07462686567164178 0.8840796019900491\n"
     ]
    },
    {
     "name": "stderr",
     "output_type": "stream",
     "text": [
      " 99%|█████████▊| 68/69 [41:47<00:37, 37.21s/it]"
     ]
    },
    {
     "name": "stdout",
     "output_type": "stream",
     "text": [
      "1360 0.07426470588235294 0.8845588235294113\n"
     ]
    },
    {
     "name": "stderr",
     "output_type": "stream",
     "text": [
      "100%|██████████| 69/69 [42:25<00:00, 37.49s/it]"
     ]
    },
    {
     "name": "stdout",
     "output_type": "stream",
     "text": [
      "1380 0.07318840579710145 0.8855072463768112\n"
     ]
    }
   ],
   "source": [
    "# train\n",
    "progress_bar = tqdm(range(int(num_training_steps/20)))\n",
    "\n",
    "flag=0\n",
    "for epoch in range(num_epochs):\n",
    "    for thelabels,text in train_dataloader:\n",
    "        model.model.train()\n",
    "        outputs = model.model(**text)\n",
    "        logits = outputs.logits\n",
    "        loss = loss_fn(logits.squeeze(), thelabels)\n",
    "        accelerator.backward(loss)\n",
    "        optimizer.step()\n",
    "        lr_scheduler.step()\n",
    "        optimizer.zero_grad()\n",
    "        flag+=1\n",
    "\n",
    "        loss_sum += int(loss.item())\n",
    "        a=get_accuracy(logits, thelabels)\n",
    "        accuracy_sum+=a\n",
    "\n",
    "        if flag%20==0:\n",
    "            print(flag,loss_sum/flag,accuracy_sum/flag)\n",
    "            loss_list.append(loss_sum/flag)\n",
    "            accuracy_list.append(accuracy_sum/flag)\n",
    "            progress_bar.update(1)"
   ]
  },
  {
   "cell_type": "code",
   "execution_count": 12,
   "metadata": {},
   "outputs": [
    {
     "data": {
      "image/png": "[encoded data removed]",
      "text/plain": [
       "<Figure size 640x480 with 1 Axes>"
      ]
     },
     "metadata": {},
     "output_type": "display_data"
    }
   ],
   "source": [
    "# print(loss_list)\n",
    "# print(accuracy_list)\n",
    "\n",
    "import matplotlib.pyplot as plt\n",
    "\n",
    "# Plotting the data\n",
    "plt.plot(loss_list, label='Train_Loss', marker='o')\n",
    "plt.plot(accuracy_list, label='Train_Accuracy', marker='o')\n",
    "\n",
    "# Adding labels and title\n",
    "plt.xlabel('Point (60 sample data per point)')\n",
    "plt.ylabel('Value')\n",
    "plt.title('Loss and Accuracy')\n",
    "\n",
    "# Adding a legend\n",
    "plt.legend()\n",
    "\n",
    "# Display the plot\n",
    "plt.show()\n"
   ]
  },
  {
   "cell_type": "code",
   "execution_count": 15,
   "metadata": {},
   "outputs": [],
   "source": [
    "def do_inference(dataloader):\n",
    "    model.eval()\n",
    "    with torch.no_grad():\n",
    "        for labels,text in dataloader:\n",
    "            logits = model(**text).logits\n",
    "            the_labels=labels\n",
    "            get_accuracy(logits, the_labels,flag2='print')\n",
    "            get_precision_recall(logits, the_labels,flag2='print')\n",
    "            get_precision_recall(logits, the_labels,flag='false',flag2='print')"
   ]
  },
  {
   "cell_type": "code",
   "execution_count": 16,
   "metadata": {},
   "outputs": [
    {
     "name": "stderr",
     "output_type": "stream",
     "text": [
      "/home/linux1/miniconda3/envs/llama2pep/lib/python3.9/site-packages/bitsandbytes/autograd/_functions.py:322: UserWarning: MatMul8bitLt: inputs will be cast from torch.float32 to float16 during quantization\n",
      "  warnings.warn(f\"MatMul8bitLt: inputs will be cast from {A.dtype} to float16 during quantization\")\n"
     ]
    },
    {
     "name": "stdout",
     "output_type": "stream",
     "text": [
      "Accuracy: 0.862\n",
      "---positive is plausible\n",
      "Precision: 0.938\n",
      "Recall: 0.800\n",
      "F-score: 0.864\n",
      "---positive is implausible\n",
      "Precision: 0.796\n",
      "Recall: 0.937\n",
      "F-score: 0.860\n"
     ]
    }
   ],
   "source": [
    "do_inference(test_dataloader.dataloader)"
   ]
  },
  {
   "cell_type": "code",
   "execution_count": 17,
   "metadata": {},
   "outputs": [
    {
     "name": "stderr",
     "output_type": "stream",
     "text": [
      "Removed shared tensor {'model.layers.17.mlp.up_proj.weight_format', 'model.layers.30.self_attn.v_proj.base_layer.weight_format', 'model.layers.21.mlp.gate_proj.weight_format', 'model.layers.11.self_attn.v_proj.base_layer.weight_format', 'model.layers.27.self_attn.q_proj.base_layer.weight_format', 'model.layers.12.self_attn.q_proj.base_layer.weight_format', 'model.layers.7.self_attn.o_proj.weight_format', 'model.layers.3.mlp.down_proj.weight_format', 'model.layers.13.mlp.gate_proj.weight_format', 'model.layers.14.self_attn.k_proj.weight_format', 'model.layers.31.self_attn.k_proj.weight_format', 'model.layers.12.self_attn.o_proj.weight_format', 'model.layers.5.mlp.down_proj.weight_format', 'model.layers.31.mlp.down_proj.weight_format', 'model.layers.10.self_attn.q_proj.base_layer.weight_format', 'model.layers.12.self_attn.k_proj.weight_format', 'model.layers.17.self_attn.k_proj.weight_format', 'model.layers.8.self_attn.o_proj.weight_format', 'model.layers.7.self_attn.v_proj.base_layer.weight_format', 'model.layers.12.mlp.gate_proj.weight_format', 'model.layers.28.self_attn.q_proj.base_layer.weight_format', 'model.layers.28.mlp.gate_proj.weight_format', 'model.layers.26.self_attn.o_proj.weight_format', 'model.layers.0.self_attn.k_proj.weight_format', 'model.layers.25.mlp.down_proj.weight_format', 'model.layers.4.mlp.down_proj.weight_format', 'model.layers.22.self_attn.v_proj.base_layer.weight_format', 'model.layers.17.mlp.gate_proj.weight_format', 'model.layers.19.self_attn.q_proj.base_layer.weight_format', 'model.layers.25.self_attn.k_proj.weight_format', 'model.layers.31.self_attn.o_proj.weight_format', 'model.layers.0.self_attn.v_proj.base_layer.weight_format', 'model.layers.4.mlp.up_proj.weight_format', 'model.layers.5.mlp.gate_proj.weight_format', 'model.layers.26.self_attn.q_proj.base_layer.weight_format', 'model.layers.23.self_attn.q_proj.base_layer.weight_format', 'model.layers.2.mlp.down_proj.weight_format', 'model.layers.29.self_attn.k_proj.weight_format', 'model.layers.27.self_attn.v_proj.base_layer.weight_format', 'model.layers.19.self_attn.v_proj.base_layer.weight_format', 'model.layers.15.self_attn.o_proj.weight_format', 'model.layers.3.self_attn.k_proj.weight_format', 'model.layers.18.mlp.up_proj.weight_format', 'model.layers.22.mlp.down_proj.weight_format', 'model.layers.6.mlp.down_proj.weight_format', 'model.layers.21.mlp.up_proj.weight_format', 'model.layers.30.self_attn.k_proj.weight_format', 'model.layers.8.self_attn.k_proj.weight_format', 'model.layers.9.self_attn.v_proj.base_layer.weight_format', 'model.layers.2.self_attn.k_proj.weight_format', 'model.layers.28.self_attn.k_proj.weight_format', 'model.layers.13.self_attn.q_proj.base_layer.weight_format', 'model.layers.28.self_attn.v_proj.base_layer.weight_format', 'model.layers.12.self_attn.v_proj.base_layer.weight_format', 'model.layers.26.self_attn.k_proj.weight_format', 'model.layers.1.self_attn.q_proj.base_layer.weight_format', 'model.layers.6.mlp.gate_proj.weight_format', 'model.layers.0.mlp.gate_proj.weight_format', 'model.layers.14.mlp.gate_proj.weight_format', 'model.layers.3.self_attn.o_proj.weight_format', 'model.layers.25.self_attn.v_proj.base_layer.weight_format', 'model.layers.13.self_attn.o_proj.weight_format', 'model.layers.4.self_attn.q_proj.base_layer.weight_format', 'model.layers.23.self_attn.o_proj.weight_format', 'model.layers.29.self_attn.o_proj.weight_format', 'model.layers.10.mlp.down_proj.weight_format', 'model.layers.15.self_attn.v_proj.base_layer.weight_format', 'model.layers.20.self_attn.k_proj.weight_format', 'model.layers.16.mlp.gate_proj.weight_format', 'model.layers.8.mlp.up_proj.weight_format', 'model.layers.9.mlp.down_proj.weight_format', 'model.layers.11.self_attn.o_proj.weight_format', 'model.layers.11.mlp.up_proj.weight_format', 'model.layers.10.self_attn.v_proj.base_layer.weight_format', 'model.layers.27.self_attn.k_proj.weight_format', 'model.layers.29.mlp.up_proj.weight_format', 'model.layers.26.mlp.down_proj.weight_format', 'model.layers.28.mlp.down_proj.weight_format', 'model.layers.24.self_attn.v_proj.base_layer.weight_format', 'model.layers.14.self_attn.o_proj.weight_format', 'model.layers.22.self_attn.q_proj.base_layer.weight_format', 'model.layers.5.self_attn.o_proj.weight_format', 'model.layers.16.self_attn.o_proj.weight_format', 'model.layers.23.self_attn.k_proj.weight_format', 'model.layers.30.self_attn.q_proj.base_layer.weight_format', 'model.layers.31.mlp.up_proj.weight_format', 'model.layers.18.self_attn.k_proj.weight_format', 'model.layers.24.self_attn.k_proj.weight_format', 'model.layers.7.mlp.up_proj.weight_format', 'model.layers.29.mlp.down_proj.weight_format', 'model.layers.4.self_attn.k_proj.weight_format', 'model.layers.4.self_attn.v_proj.base_layer.weight_format', 'model.layers.26.self_attn.v_proj.base_layer.weight_format', 'model.layers.22.self_attn.o_proj.weight_format', 'model.layers.16.mlp.down_proj.weight_format', 'model.layers.25.mlp.gate_proj.weight_format', 'model.layers.5.self_attn.k_proj.weight_format', 'model.layers.10.self_attn.k_proj.weight_format', 'model.layers.24.mlp.down_proj.weight_format', 'model.layers.29.self_attn.q_proj.base_layer.weight_format', 'model.layers.6.self_attn.o_proj.weight_format', 'model.layers.11.self_attn.k_proj.weight_format', 'model.layers.16.mlp.up_proj.weight_format', 'model.layers.22.mlp.gate_proj.weight_format', 'model.layers.20.mlp.gate_proj.weight_format', 'model.layers.16.self_attn.k_proj.weight_format', 'model.layers.3.self_attn.q_proj.base_layer.weight_format', 'model.layers.31.self_attn.v_proj.base_layer.weight_format', 'model.layers.11.mlp.down_proj.weight_format', 'model.layers.27.mlp.up_proj.weight_format', 'model.layers.13.mlp.down_proj.weight_format', 'model.layers.17.mlp.down_proj.weight_format', 'model.layers.12.mlp.down_proj.weight_format', 'model.layers.17.self_attn.v_proj.base_layer.weight_format', 'model.layers.10.mlp.up_proj.weight_format', 'model.layers.27.mlp.gate_proj.weight_format', 'model.layers.17.self_attn.q_proj.base_layer.weight_format', 'model.layers.2.mlp.gate_proj.weight_format', 'model.layers.20.self_attn.q_proj.base_layer.weight_format', 'model.layers.29.mlp.gate_proj.weight_format', 'model.layers.8.mlp.gate_proj.weight_format', 'model.layers.9.self_attn.q_proj.base_layer.weight_format', 'model.layers.0.mlp.up_proj.weight_format', 'model.layers.13.self_attn.k_proj.weight_format', 'model.layers.15.mlp.down_proj.weight_format', 'model.layers.18.mlp.gate_proj.weight_format', 'model.layers.7.self_attn.q_proj.base_layer.weight_format', 'model.layers.23.self_attn.v_proj.base_layer.weight_format', 'model.layers.20.self_attn.v_proj.base_layer.weight_format', 'model.layers.30.mlp.up_proj.weight_format', 'model.layers.1.mlp.up_proj.weight_format', 'model.layers.5.self_attn.v_proj.base_layer.weight_format', 'model.layers.20.self_attn.o_proj.weight_format', 'model.layers.2.self_attn.q_proj.base_layer.weight_format', 'model.layers.11.mlp.gate_proj.weight_format', 'model.layers.5.mlp.up_proj.weight_format', 'model.layers.9.self_attn.o_proj.weight_format', 'model.layers.24.mlp.gate_proj.weight_format', 'model.layers.3.self_attn.v_proj.base_layer.weight_format', 'model.layers.27.self_attn.o_proj.weight_format', 'model.layers.19.mlp.up_proj.weight_format', 'model.layers.19.self_attn.k_proj.weight_format', 'model.layers.22.self_attn.k_proj.weight_format', 'model.layers.14.mlp.up_proj.weight_format', 'model.layers.6.mlp.up_proj.weight_format', 'model.layers.22.mlp.up_proj.weight_format', 'model.layers.0.mlp.down_proj.weight_format', 'model.layers.21.self_attn.o_proj.weight_format', 'model.layers.7.mlp.down_proj.weight_format', 'model.layers.11.self_attn.q_proj.base_layer.weight_format', 'model.layers.2.self_attn.o_proj.weight_format', 'model.layers.24.self_attn.o_proj.weight_format', 'model.layers.15.self_attn.q_proj.base_layer.weight_format', 'model.layers.20.mlp.up_proj.weight_format', 'model.layers.16.self_attn.q_proj.base_layer.weight_format', 'model.layers.18.self_attn.o_proj.weight_format', 'model.layers.6.self_attn.v_proj.base_layer.weight_format', 'model.layers.2.self_attn.v_proj.base_layer.weight_format', 'model.layers.15.mlp.up_proj.weight_format', 'model.layers.21.self_attn.k_proj.weight_format', 'model.layers.2.mlp.up_proj.weight_format', 'model.layers.23.mlp.gate_proj.weight_format', 'model.layers.8.mlp.down_proj.weight_format', 'model.layers.18.mlp.down_proj.weight_format', 'model.layers.27.mlp.down_proj.weight_format', 'model.layers.26.mlp.gate_proj.weight_format', 'model.layers.10.self_attn.o_proj.weight_format', 'model.layers.21.self_attn.q_proj.base_layer.weight_format', 'model.layers.1.self_attn.o_proj.weight_format', 'model.layers.30.mlp.gate_proj.weight_format', 'model.layers.18.self_attn.v_proj.base_layer.weight_format', 'model.layers.16.self_attn.v_proj.base_layer.weight_format', 'model.layers.23.mlp.up_proj.weight_format', 'model.layers.19.self_attn.o_proj.weight_format', 'model.layers.7.mlp.gate_proj.weight_format', 'model.layers.31.mlp.gate_proj.weight_format', 'model.layers.4.self_attn.o_proj.weight_format', 'model.layers.19.mlp.down_proj.weight_format', 'model.layers.23.mlp.down_proj.weight_format', 'model.layers.21.self_attn.v_proj.base_layer.weight_format', 'model.layers.14.self_attn.v_proj.base_layer.weight_format', 'model.layers.1.mlp.down_proj.weight_format', 'model.layers.29.self_attn.v_proj.base_layer.weight_format', 'model.layers.30.self_attn.o_proj.weight_format', 'model.layers.15.mlp.gate_proj.weight_format', 'model.layers.28.mlp.up_proj.weight_format', 'model.layers.24.self_attn.q_proj.base_layer.weight_format', 'model.layers.21.mlp.down_proj.weight_format', 'model.layers.8.self_attn.v_proj.base_layer.weight_format', 'model.layers.6.self_attn.q_proj.base_layer.weight_format', 'model.layers.24.mlp.up_proj.weight_format', 'model.layers.17.self_attn.o_proj.weight_format', 'model.layers.31.self_attn.q_proj.base_layer.weight_format', 'model.layers.25.mlp.up_proj.weight_format', 'model.layers.12.mlp.up_proj.weight_format', 'model.layers.7.self_attn.k_proj.weight_format', 'model.layers.0.self_attn.o_proj.weight_format', 'model.layers.15.self_attn.k_proj.weight_format', 'model.layers.4.mlp.gate_proj.weight_format', 'model.layers.1.self_attn.k_proj.weight_format', 'model.layers.9.self_attn.k_proj.weight_format', 'model.layers.3.mlp.up_proj.weight_format', 'model.layers.5.self_attn.q_proj.base_layer.weight_format', 'model.layers.9.mlp.up_proj.weight_format', 'model.layers.10.mlp.gate_proj.weight_format', 'model.layers.19.mlp.gate_proj.weight_format', 'model.layers.25.self_attn.o_proj.weight_format', 'model.layers.28.self_attn.o_proj.weight_format', 'model.layers.6.self_attn.k_proj.weight_format', 'model.layers.3.mlp.gate_proj.weight_format', 'model.layers.30.mlp.down_proj.weight_format', 'model.layers.1.self_attn.v_proj.base_layer.weight_format', 'model.layers.13.mlp.up_proj.weight_format', 'model.layers.20.mlp.down_proj.weight_format', 'model.layers.25.self_attn.q_proj.base_layer.weight_format', 'model.layers.13.self_attn.v_proj.base_layer.weight_format', 'model.layers.9.mlp.gate_proj.weight_format', 'model.layers.18.self_attn.q_proj.base_layer.weight_format', 'model.layers.8.self_attn.q_proj.base_layer.weight_format', 'model.layers.1.mlp.gate_proj.weight_format', 'model.layers.14.mlp.down_proj.weight_format', 'model.layers.26.mlp.up_proj.weight_format', 'model.layers.14.self_attn.q_proj.base_layer.weight_format'} while saving. This should be OK, but check by verifying that you don't receive any warning while reloading\n"
     ]
    },
    {
     "data": {
      "text/plain": [
       "('./after_finetune_llama2_7B_un_merge/tokenizer/tokenizer_config.json',\n",
       " './after_finetune_llama2_7B_un_merge/tokenizer/special_tokens_map.json',\n",
       " './after_finetune_llama2_7B_un_merge/tokenizer/tokenizer.model',\n",
       " './after_finetune_llama2_7B_un_merge/tokenizer/added_tokens.json',\n",
       " './after_finetune_llama2_7B_un_merge/tokenizer/tokenizer.json')"
      ]
     },
     "execution_count": 17,
     "metadata": {},
     "output_type": "execute_result"
    }
   ],
   "source": [
    "save_dir= \"./after_finetune_llama2_7B_un_merge\"\n",
    "model.model.save_pretrained(save_dir,safe_safetensors=True)\n",
    "save_dir_tokenizer= save_dir+\"/tokenizer\"\n",
    "tokenizer.save_pretrained(save_dir_tokenizer)"
   ]
  },
  {
   "cell_type": "code",
   "execution_count": null,
   "metadata": {},
   "outputs": [],
   "source": [
    "#model.merge_and_unload()"
   ]
  },
  {
   "cell_type": "markdown",
   "metadata": {},
   "source": [
    "##  Problem: Loading the model after saving will encounter problems:\n",
    "### 1. save model before using model.merge_and_unload() : \n",
    "#### Reload success. But after saving and loading the model, the performance is not the same (almost as bad as the original model).\n",
    "### 2. save model after using model.merge_and_unload(): \n",
    "#### Reload fail. Get error: SafetensorError: Error while deserializing header: InvalidHeaderDeserialization\n",
    "\n",
    "This problem has not been solved yet."
   ]
  }
 ],
 "metadata": {
  "kernelspec": {
   "display_name": "night",
   "language": "python",
   "name": "python3"
  },
  "language_info": {
   "codemirror_mode": {
    "name": "ipython",
    "version": 3
   },
   "file_extension": ".py",
   "mimetype": "text/x-python",
   "name": "python",
   "nbconvert_exporter": "python",
   "pygments_lexer": "ipython3",
   "version": "3.9.18"
  }
 },
 "nbformat": 4,
 "nbformat_minor": 2
}
