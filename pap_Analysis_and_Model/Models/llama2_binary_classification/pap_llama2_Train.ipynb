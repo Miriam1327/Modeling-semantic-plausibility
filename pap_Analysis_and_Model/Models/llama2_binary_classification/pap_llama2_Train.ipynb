{
 "cells": [
  {
   "cell_type": "code",
   "execution_count": 1,
   "metadata": {},
   "outputs": [
    {
     "name": "stderr",
     "output_type": "stream",
     "text": [
      "/home/linux1/miniconda3/envs/llama2pep/lib/python3.9/site-packages/tqdm/auto.py:21: TqdmWarning: IProgress not found. Please update jupyter and ipywidgets. See https://ipywidgets.readthedocs.io/en/stable/user_install.html\n",
      "  from .autonotebook import tqdm as notebook_tqdm\n",
      "/home/linux1/miniconda3/envs/llama2pep/lib/python3.9/site-packages/transformers/utils/generic.py:441: UserWarning: torch.utils._pytree._register_pytree_node is deprecated. Please use torch.utils._pytree.register_pytree_node instead.\n",
      "  _torch_pytree._register_pytree_node(\n",
      "/home/linux1/miniconda3/envs/llama2pep/lib/python3.9/site-packages/transformers/utils/generic.py:309: UserWarning: torch.utils._pytree._register_pytree_node is deprecated. Please use torch.utils._pytree.register_pytree_node instead.\n",
      "  _torch_pytree._register_pytree_node(\n"
     ]
    }
   ],
   "source": [
    "import os\n",
    "import torch\n",
    "from accelerate import Accelerator\n",
    "\n",
    "from llama2_Model import  llama2_7b_Model_peft\n",
    "from pap_Dataloader import pap_Dataloader\n",
    "from evaluation import get_accuracy, get_precision_recall"
   ]
  },
  {
   "cell_type": "code",
   "execution_count": 2,
   "metadata": {},
   "outputs": [
    {
     "name": "stdout",
     "output_type": "stream",
     "text": [
      "Mon Jan 22 12:17:57 2024       \n",
      "+---------------------------------------------------------------------------------------+\n",
      "| NVIDIA-SMI 545.29.01              Driver Version: 546.01       CUDA Version: 12.3     |\n",
      "|-----------------------------------------+----------------------+----------------------+\n",
      "| GPU  Name                 Persistence-M | Bus-Id        Disp.A | Volatile Uncorr. ECC |\n",
      "| Fan  Temp   Perf          Pwr:Usage/Cap |         Memory-Usage | GPU-Util  Compute M. |\n",
      "|                                         |                      |               MIG M. |\n",
      "|=========================================+======================+======================|\n",
      "|   0  NVIDIA GeForce RTX 4060 ...    On  | 00000000:01:00.0 Off |                  N/A |\n",
      "| N/A   37C    P0              12W /  78W |      0MiB /  8188MiB |      0%      Default |\n",
      "|                                         |                      |                  N/A |\n",
      "+-----------------------------------------+----------------------+----------------------+\n",
      "                                                                                         \n",
      "+---------------------------------------------------------------------------------------+\n",
      "| Processes:                                                                            |\n",
      "|  GPU   GI   CI        PID   Type   Process name                            GPU Memory |\n",
      "|        ID   ID                                                             Usage      |\n",
      "|=======================================================================================|\n",
      "|  No running processes found                                                           |\n",
      "+---------------------------------------------------------------------------------------+\n"
     ]
    }
   ],
   "source": [
    "! nvidia-smi"
   ]
  },
  {
   "cell_type": "markdown",
   "metadata": {},
   "source": [
    "### Get model and dataloader"
   ]
  },
  {
   "cell_type": "code",
   "execution_count": 3,
   "metadata": {},
   "outputs": [],
   "source": [
    "def get_filepath(name,classnum_name,file_name):\n",
    "    '''\n",
    "    param name: name of the dataset, pep-3k or pap\n",
    "    param classnum_name: for pap dataset, binary or multiclass\n",
    "    param file_name: dev, test, train\n",
    "    return: the str of apath of the file\n",
    "    '''\n",
    "    current_dir =os.path.realpath(\".\")\n",
    "    parent_dir = os.path.abspath(os.path.join(current_dir, os.pardir))\n",
    "    parent_dir = os.path.abspath(os.path.join(parent_dir, os.pardir))\n",
    "    parent_dir = os.path.abspath(os.path.join(parent_dir, os.pardir))\n",
    "    if name=='pap':\n",
    "        filepath=os.path.abspath(os.path.join(parent_dir,'Data',name,'train-dev-test-split-filtered',classnum_name,file_name+'.csv'))\n",
    "    else:\n",
    "        filepath=os.path.abspath(os.path.join(parent_dir,'Data',name,'train-dev-test-split',classnum_name,file_name+'.csv'))\n",
    "    print(filepath)\n",
    "    return filepath\n"
   ]
  },
  {
   "cell_type": "code",
   "execution_count": 4,
   "metadata": {},
   "outputs": [
    {
     "name": "stdout",
     "output_type": "stream",
     "text": [
      "/home/linux1/BOX/modeling23/Data/pap/train-dev-test-split-filtered/binary/train.csv\n",
      "/home/linux1/BOX/modeling23/Data/pap/train-dev-test-split-filtered/binary/dev.csv\n",
      "/home/linux1/BOX/modeling23/Data/pap/train-dev-test-split-filtered/binary/test.csv\n"
     ]
    }
   ],
   "source": [
    "# Model from Hugging Face hub\n",
    "base_model= \"meta-llama/Llama-2-7b-hf\"\n",
    "\n",
    "filepath1=get_filepath('pap','binary','train')\n",
    "filepath2=get_filepath('pap','binary','dev')\n",
    "filepath3=get_filepath('pap','binary','test')\n"
   ]
  },
  {
   "cell_type": "code",
   "execution_count": 5,
   "metadata": {},
   "outputs": [
    {
     "name": "stderr",
     "output_type": "stream",
     "text": [
      "Loading checkpoint shards: 100%|██████████| 2/2 [00:11<00:00,  5.65s/it]\n",
      "Some weights of LlamaForSequenceClassification were not initialized from the model checkpoint at meta-llama/Llama-2-7b-hf and are newly initialized: ['score.weight']\n",
      "You should probably TRAIN this model on a down-stream task to be able to use it for predictions and inference.\n"
     ]
    },
    {
     "name": "stdout",
     "output_type": "stream",
     "text": [
      "Original number of parameters: 6607351808\n",
      "LlamaForSequenceClassification(\n",
      "  (model): LlamaModel(\n",
      "    (embed_tokens): Embedding(32000, 4096)\n",
      "    (layers): ModuleList(\n",
      "      (0-31): 32 x LlamaDecoderLayer(\n",
      "        (self_attn): LlamaSdpaAttention(\n",
      "          (q_proj): Linear8bitLt(in_features=4096, out_features=4096, bias=False)\n",
      "          (k_proj): Linear8bitLt(in_features=4096, out_features=4096, bias=False)\n",
      "          (v_proj): Linear8bitLt(in_features=4096, out_features=4096, bias=False)\n",
      "          (o_proj): Linear8bitLt(in_features=4096, out_features=4096, bias=False)\n",
      "          (rotary_emb): LlamaRotaryEmbedding()\n",
      "        )\n",
      "        (mlp): LlamaMLP(\n",
      "          (gate_proj): Linear8bitLt(in_features=4096, out_features=11008, bias=False)\n",
      "          (up_proj): Linear8bitLt(in_features=4096, out_features=11008, bias=False)\n",
      "          (down_proj): Linear8bitLt(in_features=11008, out_features=4096, bias=False)\n",
      "          (act_fn): SiLU()\n",
      "        )\n",
      "        (input_layernorm): LlamaRMSNorm()\n",
      "        (post_attention_layernorm): LlamaRMSNorm()\n",
      "      )\n",
      "    )\n",
      "    (norm): LlamaRMSNorm()\n",
      "  )\n",
      "  (score): Linear(in_features=4096, out_features=2, bias=False)\n",
      ")\n",
      "peft parameters:\n",
      "trainable params: 4,194,304 || all params: 6,611,546,112 || trainable%: 0.06343907958816639\n",
      "PeftModelForCausalLM(\n",
      "  (base_model): LoraModel(\n",
      "    (model): LlamaForSequenceClassification(\n",
      "      (model): LlamaModel(\n",
      "        (embed_tokens): Embedding(32000, 4096)\n",
      "        (layers): ModuleList(\n",
      "          (0-31): 32 x LlamaDecoderLayer(\n",
      "            (self_attn): LlamaSdpaAttention(\n",
      "              (q_proj): lora.Linear8bitLt(\n",
      "                (base_layer): Linear8bitLt(in_features=4096, out_features=4096, bias=False)\n",
      "                (lora_dropout): ModuleDict(\n",
      "                  (default): Dropout(p=0.1, inplace=False)\n",
      "                )\n",
      "                (lora_A): ModuleDict(\n",
      "                  (default): Linear(in_features=4096, out_features=8, bias=False)\n",
      "                )\n",
      "                (lora_B): ModuleDict(\n",
      "                  (default): Linear(in_features=8, out_features=4096, bias=False)\n",
      "                )\n",
      "                (lora_embedding_A): ParameterDict()\n",
      "                (lora_embedding_B): ParameterDict()\n",
      "              )\n",
      "              (k_proj): Linear8bitLt(in_features=4096, out_features=4096, bias=False)\n",
      "              (v_proj): lora.Linear8bitLt(\n",
      "                (base_layer): Linear8bitLt(in_features=4096, out_features=4096, bias=False)\n",
      "                (lora_dropout): ModuleDict(\n",
      "                  (default): Dropout(p=0.1, inplace=False)\n",
      "                )\n",
      "                (lora_A): ModuleDict(\n",
      "                  (default): Linear(in_features=4096, out_features=8, bias=False)\n",
      "                )\n",
      "                (lora_B): ModuleDict(\n",
      "                  (default): Linear(in_features=8, out_features=4096, bias=False)\n",
      "                )\n",
      "                (lora_embedding_A): ParameterDict()\n",
      "                (lora_embedding_B): ParameterDict()\n",
      "              )\n",
      "              (o_proj): Linear8bitLt(in_features=4096, out_features=4096, bias=False)\n",
      "              (rotary_emb): LlamaRotaryEmbedding()\n",
      "            )\n",
      "            (mlp): LlamaMLP(\n",
      "              (gate_proj): Linear8bitLt(in_features=4096, out_features=11008, bias=False)\n",
      "              (up_proj): Linear8bitLt(in_features=4096, out_features=11008, bias=False)\n",
      "              (down_proj): Linear8bitLt(in_features=11008, out_features=4096, bias=False)\n",
      "              (act_fn): SiLU()\n",
      "            )\n",
      "            (input_layernorm): LlamaRMSNorm()\n",
      "            (post_attention_layernorm): LlamaRMSNorm()\n",
      "          )\n",
      "        )\n",
      "        (norm): LlamaRMSNorm()\n",
      "      )\n",
      "      (score): Linear(in_features=4096, out_features=2, bias=False)\n",
      "    )\n",
      "  )\n",
      ")\n"
     ]
    }
   ],
   "source": [
    "llama_model = llama2_7b_Model_peft(base_model)\n",
    "tokenizer = llama_model.tokenizer"
   ]
  },
  {
   "cell_type": "code",
   "execution_count": 6,
   "metadata": {},
   "outputs": [
    {
     "name": "stdout",
     "output_type": "stream",
     "text": [
      "Dataset({\n",
      "    features: ['text', 'labels'],\n",
      "    num_rows: 1386\n",
      "})\n"
     ]
    },
    {
     "name": "stderr",
     "output_type": "stream",
     "text": [
      "Map:   0%|          | 0/1386 [00:00<?, ? examples/s]Asking to truncate to max_length but no maximum length is provided and the model has no predefined maximum length. Default to no truncation.\n",
      "Map: 100%|██████████| 1386/1386 [00:00<00:00, 31880.28 examples/s]\n"
     ]
    },
    {
     "name": "stdout",
     "output_type": "stream",
     "text": [
      "Dataset({\n",
      "    features: ['text', 'labels'],\n",
      "    num_rows: 173\n",
      "})\n"
     ]
    },
    {
     "name": "stderr",
     "output_type": "stream",
     "text": [
      "Map: 100%|██████████| 173/173 [00:00<00:00, 11944.67 examples/s]\n"
     ]
    },
    {
     "name": "stdout",
     "output_type": "stream",
     "text": [
      "Dataset({\n",
      "    features: ['text', 'labels'],\n",
      "    num_rows: 174\n",
      "})\n"
     ]
    },
    {
     "name": "stderr",
     "output_type": "stream",
     "text": [
      "Map: 100%|██████████| 174/174 [00:00<00:00, 11954.48 examples/s]\n"
     ]
    }
   ],
   "source": [
    "train_dataloader_object=pap_Dataloader(filepath1,tokenizer,3)\n",
    "eval_dataloader_object=pap_Dataloader(filepath2,tokenizer,'defalut')\n",
    "test_dataloader_object=pap_Dataloader(filepath3,tokenizer,'defalut')"
   ]
  },
  {
   "cell_type": "code",
   "execution_count": 7,
   "metadata": {},
   "outputs": [
    {
     "name": "stdout",
     "output_type": "stream",
     "text": [
      "cuda\n"
     ]
    }
   ],
   "source": [
    "from torch.optim import AdamW\n",
    "from tqdm.auto import tqdm\n",
    "import torch.nn as nn\n",
    "from transformers import get_scheduler\n",
    "\n",
    "optimizer = AdamW(llama_model.model.parameters(), lr=1e-4 )#5e-5)\n",
    "loss_fn = nn.CrossEntropyLoss()\n",
    "\n",
    "accelerator = Accelerator()\n",
    "train_dataloader, eval_dataloader,test_dataloader, model, optimizer = accelerator.prepare(\n",
    "    train_dataloader_object.dataloader, eval_dataloader_object.dataloader, test_dataloader_object.dataloader , llama_model.model, optimizer\n",
    ")\n",
    "\n",
    "num_epochs = 3\n",
    "num_training_steps = num_epochs * len(train_dataloader_object.dataset)\n",
    "\n",
    "#learning rate adjustment:\n",
    "lr_scheduler = get_scheduler( \n",
    "    name=\"linear\", optimizer=optimizer, num_warmup_steps=0, num_training_steps=num_training_steps\n",
    ")\n",
    "\n",
    "device = torch.device(\"cuda\") if torch.cuda.is_available() else torch.device(\"cpu\")\n",
    "print(device)"
   ]
  },
  {
   "cell_type": "markdown",
   "metadata": {},
   "source": [
    "### Check original model with test data"
   ]
  },
  {
   "cell_type": "code",
   "execution_count": 8,
   "metadata": {},
   "outputs": [],
   "source": [
    "def do_inference(dataloader):\n",
    "    model.eval()\n",
    "    with torch.no_grad():\n",
    "        for labels,text in dataloader:\n",
    "            logits = model(**text).logits\n",
    "            the_labels=labels\n",
    "            get_accuracy(logits, the_labels,flag2='print')\n",
    "            get_precision_recall(logits, the_labels,flag2='print')\n",
    "            get_precision_recall(logits, the_labels,flag='false',flag2='print')"
   ]
  },
  {
   "cell_type": "code",
   "execution_count": 9,
   "metadata": {},
   "outputs": [
    {
     "name": "stderr",
     "output_type": "stream",
     "text": [
      "/home/linux1/miniconda3/envs/llama2pep/lib/python3.9/site-packages/bitsandbytes/autograd/_functions.py:322: UserWarning: MatMul8bitLt: inputs will be cast from torch.float32 to float16 during quantization\n",
      "  warnings.warn(f\"MatMul8bitLt: inputs will be cast from {A.dtype} to float16 during quantization\")\n"
     ]
    },
    {
     "name": "stdout",
     "output_type": "stream",
     "text": [
      "Accuracy: 0.615\n",
      "---positive is plausible\n",
      "Precision: 0.868\n",
      "Recall: 0.347\n",
      "F-score: 0.496\n",
      "---positive is implausible\n",
      "Precision: 0.544\n",
      "Recall: 0.937\n",
      "F-score: 0.688\n"
     ]
    }
   ],
   "source": [
    "do_inference(test_dataloader)"
   ]
  },
  {
   "cell_type": "markdown",
   "metadata": {},
   "source": [
    "### Train"
   ]
  },
  {
   "cell_type": "code",
   "execution_count": 10,
   "metadata": {},
   "outputs": [],
   "source": [
    "loss_list=[]\n",
    "accuracy_list=[]\n",
    "loss_sum=0\n",
    "accuracy_sum=0"
   ]
  },
  {
   "cell_type": "code",
   "execution_count": 11,
   "metadata": {},
   "outputs": [
    {
     "name": "stdout",
     "output_type": "stream",
     "text": [
      "3\n",
      "462\n",
      "1386\n",
      "69.3\n",
      "thelabels: tensor([1, 1, 1], device='cuda:0')\n",
      "text: {'input_ids': tensor([[    1,  2706,  2011,   764, 29879, 27450,   291,     2,     2,     2,\n",
      "             2,     2,     2],\n",
      "        [    1,  2278,  3990,  1078, 21149,     2,     2,     2,     2,     2,\n",
      "             2,     2,     2],\n",
      "        [    1, 24894, 29467,  7213,  4637,  3974,  1003, 29882,   357,     2,\n",
      "             2,     2,     2]], device='cuda:0'), 'attention_mask': tensor([[1, 1, 1, 1, 1, 1, 1, 0, 0, 0, 0, 0, 0],\n",
      "        [1, 1, 1, 1, 1, 0, 0, 0, 0, 0, 0, 0, 0],\n",
      "        [1, 1, 1, 1, 1, 1, 1, 1, 1, 0, 0, 0, 0]], device='cuda:0')}\n"
     ]
    }
   ],
   "source": [
    "print(num_epochs)\n",
    "print(len(train_dataloader))\n",
    "num_training_steps = num_epochs * len(train_dataloader)\n",
    "print(num_training_steps)\n",
    "print(num_training_steps/20)\n",
    "# print(int(num_training_steps/30))\n",
    "for thelabels,text in train_dataloader:\n",
    "    print('thelabels:',thelabels)\n",
    "    print('text:',text)\n",
    "    break"
   ]
  },
  {
   "cell_type": "code",
   "execution_count": 12,
   "metadata": {},
   "outputs": [
    {
     "name": "stderr",
     "output_type": "stream",
     "text": [
      "  0%|          | 0/69 [00:00<?, ?it/s]/home/linux1/miniconda3/envs/llama2pep/lib/python3.9/site-packages/torch/utils/checkpoint.py:460: UserWarning: torch.utils.checkpoint: please pass in use_reentrant=True or use_reentrant=False explicitly. The default value of use_reentrant will be updated to be False in the future. To maintain current behavior, pass use_reentrant=True. It is recommended that you use use_reentrant=False. Refer to docs for more details on the differences between the two variants.\n",
      "  warnings.warn(\n",
      "  1%|▏         | 1/69 [00:50<56:40, 50.01s/it]"
     ]
    },
    {
     "name": "stdout",
     "output_type": "stream",
     "text": [
      "20 loss:, 0.75 accuarcy: 0.6\n"
     ]
    },
    {
     "name": "stderr",
     "output_type": "stream",
     "text": [
      "  3%|▎         | 2/69 [01:40<56:07, 50.26s/it]"
     ]
    },
    {
     "name": "stdout",
     "output_type": "stream",
     "text": [
      "40 loss:, 0.6 accuarcy: 0.625\n"
     ]
    },
    {
     "name": "stderr",
     "output_type": "stream",
     "text": [
      "  4%|▍         | 3/69 [02:30<55:17, 50.27s/it]"
     ]
    },
    {
     "name": "stdout",
     "output_type": "stream",
     "text": [
      "60 loss:, 0.48333333333333334 accuarcy: 0.6666666666666666\n"
     ]
    },
    {
     "name": "stderr",
     "output_type": "stream",
     "text": [
      "  6%|▌         | 4/69 [03:20<54:04, 49.92s/it]"
     ]
    },
    {
     "name": "stdout",
     "output_type": "stream",
     "text": [
      "80 loss:, 0.4625 accuarcy: 0.6624999999999998\n"
     ]
    },
    {
     "name": "stderr",
     "output_type": "stream",
     "text": [
      "  7%|▋         | 5/69 [04:10<53:14, 49.91s/it]"
     ]
    },
    {
     "name": "stdout",
     "output_type": "stream",
     "text": [
      "100 loss:, 0.48 accuarcy: 0.6666666666666664\n"
     ]
    },
    {
     "name": "stderr",
     "output_type": "stream",
     "text": [
      "  9%|▊         | 6/69 [04:59<52:19, 49.84s/it]"
     ]
    },
    {
     "name": "stdout",
     "output_type": "stream",
     "text": [
      "120 loss:, 0.475 accuarcy: 0.6555555555555554\n"
     ]
    },
    {
     "name": "stderr",
     "output_type": "stream",
     "text": [
      " 10%|█         | 7/69 [05:49<51:24, 49.75s/it]"
     ]
    },
    {
     "name": "stdout",
     "output_type": "stream",
     "text": [
      "140 loss:, 0.4142857142857143 accuarcy: 0.6690476190476192\n"
     ]
    },
    {
     "name": "stderr",
     "output_type": "stream",
     "text": [
      " 12%|█▏        | 8/69 [06:38<50:33, 49.73s/it]"
     ]
    },
    {
     "name": "stdout",
     "output_type": "stream",
     "text": [
      "160 loss:, 0.3875 accuarcy: 0.679166666666667\n"
     ]
    },
    {
     "name": "stderr",
     "output_type": "stream",
     "text": [
      " 13%|█▎        | 9/69 [07:28<49:48, 49.81s/it]"
     ]
    },
    {
     "name": "stdout",
     "output_type": "stream",
     "text": [
      "180 loss:, 0.37777777777777777 accuarcy: 0.6851851851851856\n"
     ]
    },
    {
     "name": "stderr",
     "output_type": "stream",
     "text": [
      " 14%|█▍        | 10/69 [08:18<49:01, 49.86s/it]"
     ]
    },
    {
     "name": "stdout",
     "output_type": "stream",
     "text": [
      "200 loss:, 0.34 accuarcy: 0.7016666666666669\n"
     ]
    },
    {
     "name": "stderr",
     "output_type": "stream",
     "text": [
      " 16%|█▌        | 11/69 [09:08<48:04, 49.73s/it]"
     ]
    },
    {
     "name": "stdout",
     "output_type": "stream",
     "text": [
      "220 loss:, 0.33181818181818185 accuarcy: 0.7045454545454547\n"
     ]
    },
    {
     "name": "stderr",
     "output_type": "stream",
     "text": [
      " 17%|█▋        | 12/69 [09:57<47:12, 49.69s/it]"
     ]
    },
    {
     "name": "stdout",
     "output_type": "stream",
     "text": [
      "240 loss:, 0.32083333333333336 accuarcy: 0.7125\n"
     ]
    },
    {
     "name": "stderr",
     "output_type": "stream",
     "text": [
      " 19%|█▉        | 13/69 [10:47<46:26, 49.76s/it]"
     ]
    },
    {
     "name": "stdout",
     "output_type": "stream",
     "text": [
      "260 loss:, 0.3076923076923077 accuarcy: 0.7205128205128204\n"
     ]
    },
    {
     "name": "stderr",
     "output_type": "stream",
     "text": [
      " 20%|██        | 14/69 [11:37<45:36, 49.75s/it]"
     ]
    },
    {
     "name": "stdout",
     "output_type": "stream",
     "text": [
      "280 loss:, 0.29642857142857143 accuarcy: 0.7285714285714283\n"
     ]
    },
    {
     "name": "stderr",
     "output_type": "stream",
     "text": [
      " 22%|██▏       | 15/69 [12:27<44:45, 49.73s/it]"
     ]
    },
    {
     "name": "stdout",
     "output_type": "stream",
     "text": [
      "300 loss:, 0.29333333333333333 accuarcy: 0.7322222222222217\n"
     ]
    },
    {
     "name": "stderr",
     "output_type": "stream",
     "text": [
      " 23%|██▎       | 16/69 [13:17<44:02, 49.87s/it]"
     ]
    },
    {
     "name": "stdout",
     "output_type": "stream",
     "text": [
      "320 loss:, 0.284375 accuarcy: 0.7406249999999994\n"
     ]
    },
    {
     "name": "stderr",
     "output_type": "stream",
     "text": [
      " 25%|██▍       | 17/69 [14:07<43:20, 50.01s/it]"
     ]
    },
    {
     "name": "stdout",
     "output_type": "stream",
     "text": [
      "340 loss:, 0.2735294117647059 accuarcy: 0.7441176470588228\n"
     ]
    },
    {
     "name": "stderr",
     "output_type": "stream",
     "text": [
      " 26%|██▌       | 18/69 [14:57<42:23, 49.88s/it]"
     ]
    },
    {
     "name": "stdout",
     "output_type": "stream",
     "text": [
      "360 loss:, 0.2611111111111111 accuarcy: 0.7509259259259254\n"
     ]
    },
    {
     "name": "stderr",
     "output_type": "stream",
     "text": [
      " 28%|██▊       | 19/69 [15:46<41:28, 49.77s/it]"
     ]
    },
    {
     "name": "stdout",
     "output_type": "stream",
     "text": [
      "380 loss:, 0.25263157894736843 accuarcy: 0.7552631578947367\n"
     ]
    },
    {
     "name": "stderr",
     "output_type": "stream",
     "text": [
      " 29%|██▉       | 20/69 [16:36<40:43, 49.86s/it]"
     ]
    },
    {
     "name": "stdout",
     "output_type": "stream",
     "text": [
      "400 loss:, 0.2475 accuarcy: 0.7600000000000001\n"
     ]
    },
    {
     "name": "stderr",
     "output_type": "stream",
     "text": [
      " 30%|███       | 21/69 [17:27<39:58, 49.97s/it]"
     ]
    },
    {
     "name": "stdout",
     "output_type": "stream",
     "text": [
      "420 loss:, 0.23809523809523808 accuarcy: 0.7658730158730164\n"
     ]
    },
    {
     "name": "stderr",
     "output_type": "stream",
     "text": [
      " 32%|███▏      | 22/69 [18:16<39:06, 49.92s/it]"
     ]
    },
    {
     "name": "stdout",
     "output_type": "stream",
     "text": [
      "440 loss:, 0.22727272727272727 accuarcy: 0.7734848484848491\n"
     ]
    },
    {
     "name": "stderr",
     "output_type": "stream",
     "text": [
      " 33%|███▎      | 23/69 [19:06<38:09, 49.78s/it]"
     ]
    },
    {
     "name": "stdout",
     "output_type": "stream",
     "text": [
      "460 loss:, 0.22391304347826088 accuarcy: 0.7775362318840587\n"
     ]
    },
    {
     "name": "stderr",
     "output_type": "stream",
     "text": [
      " 35%|███▍      | 24/69 [19:56<37:23, 49.85s/it]"
     ]
    },
    {
     "name": "stdout",
     "output_type": "stream",
     "text": [
      "480 loss:, 0.21458333333333332 accuarcy: 0.781250000000001\n"
     ]
    },
    {
     "name": "stderr",
     "output_type": "stream",
     "text": [
      " 36%|███▌      | 25/69 [20:45<36:28, 49.75s/it]"
     ]
    },
    {
     "name": "stdout",
     "output_type": "stream",
     "text": [
      "500 loss:, 0.206 accuarcy: 0.788000000000001\n"
     ]
    },
    {
     "name": "stderr",
     "output_type": "stream",
     "text": [
      " 38%|███▊      | 26/69 [21:35<35:33, 49.61s/it]"
     ]
    },
    {
     "name": "stdout",
     "output_type": "stream",
     "text": [
      "520 loss:, 0.19807692307692307 accuarcy: 0.7948717948717959\n"
     ]
    },
    {
     "name": "stderr",
     "output_type": "stream",
     "text": [
      " 39%|███▉      | 27/69 [22:25<34:49, 49.76s/it]"
     ]
    },
    {
     "name": "stdout",
     "output_type": "stream",
     "text": [
      "540 loss:, 0.19074074074074074 accuarcy: 0.7987654320987667\n"
     ]
    },
    {
     "name": "stderr",
     "output_type": "stream",
     "text": [
      " 41%|████      | 28/69 [23:15<34:05, 49.89s/it]"
     ]
    },
    {
     "name": "stdout",
     "output_type": "stream",
     "text": [
      "560 loss:, 0.18392857142857144 accuarcy: 0.8053571428571441\n"
     ]
    },
    {
     "name": "stderr",
     "output_type": "stream",
     "text": [
      " 42%|████▏     | 29/69 [24:05<33:13, 49.83s/it]"
     ]
    },
    {
     "name": "stdout",
     "output_type": "stream",
     "text": [
      "580 loss:, 0.17758620689655172 accuarcy: 0.8103448275862082\n"
     ]
    },
    {
     "name": "stderr",
     "output_type": "stream",
     "text": [
      " 43%|████▎     | 30/69 [24:54<32:21, 49.77s/it]"
     ]
    },
    {
     "name": "stdout",
     "output_type": "stream",
     "text": [
      "600 loss:, 0.17333333333333334 accuarcy: 0.8138888888888903\n"
     ]
    },
    {
     "name": "stderr",
     "output_type": "stream",
     "text": [
      " 45%|████▍     | 31/69 [25:45<31:35, 49.87s/it]"
     ]
    },
    {
     "name": "stdout",
     "output_type": "stream",
     "text": [
      "620 loss:, 0.16774193548387098 accuarcy: 0.8177419354838724\n"
     ]
    },
    {
     "name": "stderr",
     "output_type": "stream",
     "text": [
      " 46%|████▋     | 32/69 [26:34<30:42, 49.79s/it]"
     ]
    },
    {
     "name": "stdout",
     "output_type": "stream",
     "text": [
      "640 loss:, 0.1671875 accuarcy: 0.8187500000000012\n"
     ]
    },
    {
     "name": "stderr",
     "output_type": "stream",
     "text": [
      " 48%|████▊     | 33/69 [27:24<29:51, 49.75s/it]"
     ]
    },
    {
     "name": "stdout",
     "output_type": "stream",
     "text": [
      "660 loss:, 0.16363636363636364 accuarcy: 0.8222222222222232\n"
     ]
    },
    {
     "name": "stderr",
     "output_type": "stream",
     "text": [
      " 49%|████▉     | 34/69 [28:15<29:13, 50.09s/it]"
     ]
    },
    {
     "name": "stdout",
     "output_type": "stream",
     "text": [
      "680 loss:, 0.1588235294117647 accuarcy: 0.826470588235295\n"
     ]
    },
    {
     "name": "stderr",
     "output_type": "stream",
     "text": [
      " 51%|█████     | 35/69 [29:06<28:33, 50.40s/it]"
     ]
    },
    {
     "name": "stdout",
     "output_type": "stream",
     "text": [
      "700 loss:, 0.15571428571428572 accuarcy: 0.8285714285714292\n"
     ]
    },
    {
     "name": "stderr",
     "output_type": "stream",
     "text": [
      " 52%|█████▏    | 36/69 [29:57<27:52, 50.68s/it]"
     ]
    },
    {
     "name": "stdout",
     "output_type": "stream",
     "text": [
      "720 loss:, 0.15138888888888888 accuarcy: 0.8305555555555558\n"
     ]
    },
    {
     "name": "stderr",
     "output_type": "stream",
     "text": [
      " 54%|█████▎    | 37/69 [30:48<27:03, 50.75s/it]"
     ]
    },
    {
     "name": "stdout",
     "output_type": "stream",
     "text": [
      "740 loss:, 0.1472972972972973 accuarcy: 0.8337837837837839\n"
     ]
    },
    {
     "name": "stderr",
     "output_type": "stream",
     "text": [
      " 55%|█████▌    | 38/69 [31:40<26:20, 50.99s/it]"
     ]
    },
    {
     "name": "stdout",
     "output_type": "stream",
     "text": [
      "760 loss:, 0.14605263157894738 accuarcy: 0.8350877192982455\n"
     ]
    },
    {
     "name": "stderr",
     "output_type": "stream",
     "text": [
      " 57%|█████▋    | 39/69 [32:31<25:31, 51.06s/it]"
     ]
    },
    {
     "name": "stdout",
     "output_type": "stream",
     "text": [
      "780 loss:, 0.1423076923076923 accuarcy: 0.8388888888888888\n"
     ]
    },
    {
     "name": "stderr",
     "output_type": "stream",
     "text": [
      " 58%|█████▊    | 40/69 [33:21<24:36, 50.91s/it]"
     ]
    },
    {
     "name": "stdout",
     "output_type": "stream",
     "text": [
      "800 loss:, 0.13875 accuarcy: 0.8404166666666663\n"
     ]
    },
    {
     "name": "stderr",
     "output_type": "stream",
     "text": [
      " 59%|█████▉    | 41/69 [34:11<23:38, 50.65s/it]"
     ]
    },
    {
     "name": "stdout",
     "output_type": "stream",
     "text": [
      "820 loss:, 0.1353658536585366 accuarcy: 0.8434959349593492\n"
     ]
    },
    {
     "name": "stderr",
     "output_type": "stream",
     "text": [
      " 61%|██████    | 42/69 [35:02<22:46, 50.61s/it]"
     ]
    },
    {
     "name": "stdout",
     "output_type": "stream",
     "text": [
      "840 loss:, 0.13690476190476192 accuarcy: 0.8444444444444438\n"
     ]
    },
    {
     "name": "stderr",
     "output_type": "stream",
     "text": [
      " 62%|██████▏   | 43/69 [35:52<21:52, 50.49s/it]"
     ]
    },
    {
     "name": "stdout",
     "output_type": "stream",
     "text": [
      "860 loss:, 0.13488372093023257 accuarcy: 0.8468992248062008\n"
     ]
    },
    {
     "name": "stderr",
     "output_type": "stream",
     "text": [
      " 64%|██████▍   | 44/69 [36:42<20:59, 50.39s/it]"
     ]
    },
    {
     "name": "stdout",
     "output_type": "stream",
     "text": [
      "880 loss:, 0.13295454545454546 accuarcy: 0.8484848484848475\n"
     ]
    },
    {
     "name": "stderr",
     "output_type": "stream",
     "text": [
      " 65%|██████▌   | 45/69 [37:33<20:14, 50.59s/it]"
     ]
    },
    {
     "name": "stdout",
     "output_type": "stream",
     "text": [
      "900 loss:, 0.13111111111111112 accuarcy: 0.849259259259258\n"
     ]
    },
    {
     "name": "stderr",
     "output_type": "stream",
     "text": [
      " 67%|██████▋   | 46/69 [38:24<19:24, 50.64s/it]"
     ]
    },
    {
     "name": "stdout",
     "output_type": "stream",
     "text": [
      "920 loss:, 0.13152173913043477 accuarcy: 0.8499999999999985\n"
     ]
    },
    {
     "name": "stderr",
     "output_type": "stream",
     "text": [
      " 68%|██████▊   | 47/69 [39:15<18:32, 50.57s/it]"
     ]
    },
    {
     "name": "stdout",
     "output_type": "stream",
     "text": [
      "940 loss:, 0.12872340425531914 accuarcy: 0.8524822695035446\n"
     ]
    },
    {
     "name": "stderr",
     "output_type": "stream",
     "text": [
      " 70%|██████▉   | 48/69 [40:05<17:39, 50.47s/it]"
     ]
    },
    {
     "name": "stdout",
     "output_type": "stream",
     "text": [
      "960 loss:, 0.12604166666666666 accuarcy: 0.8555555555555541\n"
     ]
    },
    {
     "name": "stderr",
     "output_type": "stream",
     "text": [
      " 71%|███████   | 49/69 [40:56<16:51, 50.58s/it]"
     ]
    },
    {
     "name": "stdout",
     "output_type": "stream",
     "text": [
      "980 loss:, 0.12346938775510204 accuarcy: 0.8585034013605427\n"
     ]
    },
    {
     "name": "stderr",
     "output_type": "stream",
     "text": [
      " 72%|███████▏  | 50/69 [41:46<16:00, 50.58s/it]"
     ]
    },
    {
     "name": "stdout",
     "output_type": "stream",
     "text": [
      "1000 loss:, 0.121 accuarcy: 0.8609999999999985\n"
     ]
    },
    {
     "name": "stderr",
     "output_type": "stream",
     "text": [
      " 74%|███████▍  | 51/69 [42:37<15:11, 50.64s/it]"
     ]
    },
    {
     "name": "stdout",
     "output_type": "stream",
     "text": [
      "1020 loss:, 0.11862745098039215 accuarcy: 0.863398692810456\n"
     ]
    },
    {
     "name": "stderr",
     "output_type": "stream",
     "text": [
      " 75%|███████▌  | 52/69 [43:28<14:23, 50.79s/it]"
     ]
    },
    {
     "name": "stdout",
     "output_type": "stream",
     "text": [
      "1040 loss:, 0.11634615384615385 accuarcy: 0.8653846153846139\n"
     ]
    },
    {
     "name": "stderr",
     "output_type": "stream",
     "text": [
      " 77%|███████▋  | 53/69 [44:18<13:30, 50.66s/it]"
     ]
    },
    {
     "name": "stdout",
     "output_type": "stream",
     "text": [
      "1060 loss:, 0.11415094339622642 accuarcy: 0.8669811320754701\n"
     ]
    },
    {
     "name": "stderr",
     "output_type": "stream",
     "text": [
      " 78%|███████▊  | 54/69 [45:09<12:37, 50.52s/it]"
     ]
    },
    {
     "name": "stdout",
     "output_type": "stream",
     "text": [
      "1080 loss:, 0.11296296296296296 accuarcy: 0.8691358024691341\n"
     ]
    },
    {
     "name": "stderr",
     "output_type": "stream",
     "text": [
      " 80%|███████▉  | 55/69 [45:59<11:45, 50.41s/it]"
     ]
    },
    {
     "name": "stdout",
     "output_type": "stream",
     "text": [
      "1100 loss:, 0.11181818181818182 accuarcy: 0.8712121212121196\n"
     ]
    },
    {
     "name": "stderr",
     "output_type": "stream",
     "text": [
      " 81%|████████  | 56/69 [46:50<10:57, 50.55s/it]"
     ]
    },
    {
     "name": "stdout",
     "output_type": "stream",
     "text": [
      "1120 loss:, 0.10982142857142857 accuarcy: 0.873214285714284\n"
     ]
    },
    {
     "name": "stderr",
     "output_type": "stream",
     "text": [
      " 83%|████████▎ | 57/69 [47:40<10:05, 50.47s/it]"
     ]
    },
    {
     "name": "stdout",
     "output_type": "stream",
     "text": [
      "1140 loss:, 0.10789473684210527 accuarcy: 0.8754385964912265\n"
     ]
    },
    {
     "name": "stderr",
     "output_type": "stream",
     "text": [
      " 84%|████████▍ | 58/69 [48:30<09:12, 50.27s/it]"
     ]
    },
    {
     "name": "stdout",
     "output_type": "stream",
     "text": [
      "1160 loss:, 0.1060344827586207 accuarcy: 0.8775862068965502\n"
     ]
    },
    {
     "name": "stderr",
     "output_type": "stream",
     "text": [
      " 86%|████████▌ | 59/69 [49:20<08:22, 50.22s/it]"
     ]
    },
    {
     "name": "stdout",
     "output_type": "stream",
     "text": [
      "1180 loss:, 0.10423728813559321 accuarcy: 0.879661016949151\n"
     ]
    },
    {
     "name": "stderr",
     "output_type": "stream",
     "text": [
      " 87%|████████▋ | 60/69 [50:10<07:30, 50.11s/it]"
     ]
    },
    {
     "name": "stdout",
     "output_type": "stream",
     "text": [
      "1200 loss:, 0.1025 accuarcy: 0.8813888888888874\n"
     ]
    },
    {
     "name": "stderr",
     "output_type": "stream",
     "text": [
      " 88%|████████▊ | 61/69 [51:00<06:41, 50.20s/it]"
     ]
    },
    {
     "name": "stdout",
     "output_type": "stream",
     "text": [
      "1220 loss:, 0.10081967213114754 accuarcy: 0.8833333333333319\n"
     ]
    },
    {
     "name": "stderr",
     "output_type": "stream",
     "text": [
      " 90%|████████▉ | 62/69 [51:50<05:51, 50.15s/it]"
     ]
    },
    {
     "name": "stdout",
     "output_type": "stream",
     "text": [
      "1240 loss:, 0.09919354838709678 accuarcy: 0.8852150537634395\n"
     ]
    },
    {
     "name": "stderr",
     "output_type": "stream",
     "text": [
      " 91%|█████████▏| 63/69 [52:40<05:01, 50.18s/it]"
     ]
    },
    {
     "name": "stdout",
     "output_type": "stream",
     "text": [
      "1260 loss:, 0.09761904761904762 accuarcy: 0.8862433862433851\n"
     ]
    },
    {
     "name": "stderr",
     "output_type": "stream",
     "text": [
      " 93%|█████████▎| 64/69 [53:31<04:11, 50.26s/it]"
     ]
    },
    {
     "name": "stdout",
     "output_type": "stream",
     "text": [
      "1280 loss:, 0.09609375 accuarcy: 0.8880208333333321\n"
     ]
    },
    {
     "name": "stderr",
     "output_type": "stream",
     "text": [
      " 94%|█████████▍| 65/69 [54:21<03:20, 50.14s/it]"
     ]
    },
    {
     "name": "stdout",
     "output_type": "stream",
     "text": [
      "1300 loss:, 0.09461538461538462 accuarcy: 0.8894871794871784\n"
     ]
    },
    {
     "name": "stderr",
     "output_type": "stream",
     "text": [
      " 96%|█████████▌| 66/69 [55:10<02:29, 49.97s/it]"
     ]
    },
    {
     "name": "stdout",
     "output_type": "stream",
     "text": [
      "1320 loss:, 0.09318181818181819 accuarcy: 0.8906565656565647\n"
     ]
    },
    {
     "name": "stderr",
     "output_type": "stream",
     "text": [
      " 97%|█████████▋| 67/69 [56:00<01:39, 49.92s/it]"
     ]
    },
    {
     "name": "stdout",
     "output_type": "stream",
     "text": [
      "1340 loss:, 0.09179104477611941 accuarcy: 0.8922885572139294\n"
     ]
    },
    {
     "name": "stderr",
     "output_type": "stream",
     "text": [
      " 99%|█████████▊| 68/69 [56:49<00:49, 49.70s/it]"
     ]
    },
    {
     "name": "stdout",
     "output_type": "stream",
     "text": [
      "1360 loss:, 0.09044117647058823 accuarcy: 0.8938725490196069\n"
     ]
    },
    {
     "name": "stderr",
     "output_type": "stream",
     "text": [
      "100%|██████████| 69/69 [57:39<00:00, 49.62s/it]"
     ]
    },
    {
     "name": "stdout",
     "output_type": "stream",
     "text": [
      "1380 loss:, 0.0891304347826087 accuarcy: 0.895169082125603\n"
     ]
    }
   ],
   "source": [
    "# train\n",
    "progress_bar = tqdm(range(int(num_training_steps/20)))\n",
    "\n",
    "flag=0\n",
    "for epoch in range(num_epochs):\n",
    "    for thelabels,text in train_dataloader:\n",
    "        model.train()\n",
    "        outputs = model(**text)\n",
    "        logits = outputs.logits\n",
    "        loss = loss_fn(logits.squeeze(), thelabels)\n",
    "        accelerator.backward(loss)\n",
    "        optimizer.step()\n",
    "        lr_scheduler.step()\n",
    "        optimizer.zero_grad()\n",
    "        flag+=1\n",
    "\n",
    "        loss_sum += int(loss.item())\n",
    "        a=get_accuracy(logits, thelabels)\n",
    "        accuracy_sum+=a\n",
    "\n",
    "        if flag%20==0:\n",
    "            print(flag,'loss:,',loss_sum/flag, 'accuarcy:',accuracy_sum/flag)\n",
    "            loss_list.append(loss_sum/flag)\n",
    "            accuracy_list.append(accuracy_sum/flag)\n",
    "            progress_bar.update(1)"
   ]
  },
  {
   "cell_type": "code",
   "execution_count": 13,
   "metadata": {},
   "outputs": [
    {
     "data": {
      "image/png": "[encoded data removed]",
      "text/plain": [
       "<Figure size 640x480 with 1 Axes>"
      ]
     },
     "metadata": {},
     "output_type": "display_data"
    }
   ],
   "source": [
    "# print(loss_list)\n",
    "# print(accuracy_list)\n",
    "\n",
    "import matplotlib.pyplot as plt\n",
    "\n",
    "# Plotting the data\n",
    "plt.plot(loss_list, label='Train_Loss', marker='o')\n",
    "plt.plot(accuracy_list, label='Train_Accuracy', marker='o')\n",
    "\n",
    "# Adding labels and title\n",
    "plt.xlabel('Point (60 sample data per point)')\n",
    "plt.ylabel('Value')\n",
    "plt.title('Loss and Accuracy')\n",
    "\n",
    "# Adding a legend\n",
    "plt.legend()\n",
    "\n",
    "# Display the plot\n",
    "plt.show()\n"
   ]
  },
  {
   "cell_type": "code",
   "execution_count": 14,
   "metadata": {},
   "outputs": [
    {
     "name": "stderr",
     "output_type": "stream",
     "text": [
      "/home/linux1/miniconda3/envs/llama2pep/lib/python3.9/site-packages/bitsandbytes/autograd/_functions.py:322: UserWarning: MatMul8bitLt: inputs will be cast from torch.float32 to float16 during quantization\n",
      "  warnings.warn(f\"MatMul8bitLt: inputs will be cast from {A.dtype} to float16 during quantization\")\n"
     ]
    },
    {
     "name": "stdout",
     "output_type": "stream",
     "text": [
      "Accuracy: 0.868\n",
      "---positive is plausible\n",
      "Precision: 0.986\n",
      "Recall: 0.768\n",
      "F-score: 0.864\n",
      "---positive is implausible\n",
      "Precision: 0.780\n",
      "Recall: 0.987\n",
      "F-score: 0.872\n"
     ]
    }
   ],
   "source": [
    "do_inference(test_dataloader)"
   ]
  },
  {
   "cell_type": "markdown",
   "metadata": {},
   "source": [
    "### for wrong prediction analysis, save the results to a file:"
   ]
  },
  {
   "cell_type": "code",
   "execution_count": 15,
   "metadata": {},
   "outputs": [],
   "source": [
    "import numpy as np\n",
    "def do_inference_analysis(dataloader):\n",
    "    model.eval()\n",
    "    text_list=[]\n",
    "    with torch.no_grad():\n",
    "        for labels,text in dataloader:\n",
    "            text_ids=text['input_ids']\n",
    "            for j in range(len(text_ids)):\n",
    "                the_text=tokenizer.decode(text_ids[j], skip_special_tokens=True)\n",
    "                text_list.append(the_text)\n",
    "            logits = model(**text).logits\n",
    "            the_labels=labels\n",
    "            get_accuracy(logits, the_labels,flag2='print')\n",
    "            get_precision_recall(logits, the_labels,flag2='print')\n",
    "            get_precision_recall(logits, the_labels,flag='false',flag2='print')\n",
    "            preds_up=logits.detach().cpu().numpy()\n",
    "            preds = np.array([ i.argmax() for i in preds_up ])\n",
    "            the_labels = np.array(the_labels.cpu())\n",
    "    return text_list, preds,the_labels"
   ]
  },
  {
   "cell_type": "code",
   "execution_count": 16,
   "metadata": {},
   "outputs": [
    {
     "name": "stdout",
     "output_type": "stream",
     "text": [
      "Accuracy: 0.868\n",
      "---positive is plausible\n",
      "Precision: 0.986\n",
      "Recall: 0.768\n",
      "F-score: 0.864\n",
      "---positive is implausible\n",
      "Precision: 0.780\n",
      "Recall: 0.987\n",
      "F-score: 0.872\n"
     ]
    }
   ],
   "source": [
    "text_list, preds,the_labels = do_inference_analysis(test_dataloader)"
   ]
  },
  {
   "cell_type": "code",
   "execution_count": 17,
   "metadata": {},
   "outputs": [],
   "source": [
    "text_list_pap=text_list\n",
    "dict_pap={}\n",
    "for i in range(len(text_list)):\n",
    "    the_text=text_list_pap[i]\n",
    "    dict_pap[the_text]={'preds':preds[i],'original_labels':the_labels[i]}\n",
    "with open('result_analysis/pap_preds_filter.txt', 'w') as file:\n",
    "    file.write(str(dict_pap))"
   ]
  },
  {
   "cell_type": "code",
   "execution_count": 18,
   "metadata": {},
   "outputs": [
    {
     "name": "stdout",
     "output_type": "stream",
     "text": [
      "PeftModelForCausalLM(\n",
      "  (base_model): LoraModel(\n",
      "    (model): LlamaForSequenceClassification(\n",
      "      (model): LlamaModel(\n",
      "        (embed_tokens): Embedding(32000, 4096)\n",
      "        (layers): ModuleList(\n",
      "          (0-31): 32 x LlamaDecoderLayer(\n",
      "            (self_attn): LlamaSdpaAttention(\n",
      "              (q_proj): lora.Linear8bitLt(\n",
      "                (base_layer): Linear8bitLt(in_features=4096, out_features=4096, bias=False)\n",
      "                (lora_dropout): ModuleDict(\n",
      "                  (default): Dropout(p=0.1, inplace=False)\n",
      "                )\n",
      "                (lora_A): ModuleDict(\n",
      "                  (default): Linear(in_features=4096, out_features=8, bias=False)\n",
      "                )\n",
      "                (lora_B): ModuleDict(\n",
      "                  (default): Linear(in_features=8, out_features=4096, bias=False)\n",
      "                )\n",
      "                (lora_embedding_A): ParameterDict()\n",
      "                (lora_embedding_B): ParameterDict()\n",
      "              )\n",
      "              (k_proj): Linear8bitLt(in_features=4096, out_features=4096, bias=False)\n",
      "              (v_proj): lora.Linear8bitLt(\n",
      "                (base_layer): Linear8bitLt(in_features=4096, out_features=4096, bias=False)\n",
      "                (lora_dropout): ModuleDict(\n",
      "                  (default): Dropout(p=0.1, inplace=False)\n",
      "                )\n",
      "                (lora_A): ModuleDict(\n",
      "                  (default): Linear(in_features=4096, out_features=8, bias=False)\n",
      "                )\n",
      "                (lora_B): ModuleDict(\n",
      "                  (default): Linear(in_features=8, out_features=4096, bias=False)\n",
      "                )\n",
      "                (lora_embedding_A): ParameterDict()\n",
      "                (lora_embedding_B): ParameterDict()\n",
      "              )\n",
      "              (o_proj): Linear8bitLt(in_features=4096, out_features=4096, bias=False)\n",
      "              (rotary_emb): LlamaRotaryEmbedding()\n",
      "            )\n",
      "            (mlp): LlamaMLP(\n",
      "              (gate_proj): Linear8bitLt(in_features=4096, out_features=11008, bias=False)\n",
      "              (up_proj): Linear8bitLt(in_features=4096, out_features=11008, bias=False)\n",
      "              (down_proj): Linear8bitLt(in_features=11008, out_features=4096, bias=False)\n",
      "              (act_fn): SiLU()\n",
      "            )\n",
      "            (input_layernorm): LlamaRMSNorm()\n",
      "            (post_attention_layernorm): LlamaRMSNorm()\n",
      "          )\n",
      "        )\n",
      "        (norm): LlamaRMSNorm()\n",
      "      )\n",
      "      (score): Linear(in_features=4096, out_features=2, bias=False)\n",
      "    )\n",
      "  )\n",
      ")\n"
     ]
    }
   ],
   "source": [
    "print(model)"
   ]
  },
  {
   "cell_type": "code",
   "execution_count": 22,
   "metadata": {},
   "outputs": [
    {
     "name": "stderr",
     "output_type": "stream",
     "text": [
      "/home/linux1/miniconda3/envs/llama2pep/lib/python3.9/site-packages/bitsandbytes/autograd/_functions.py:322: UserWarning: MatMul8bitLt: inputs will be cast from torch.float32 to float16 during quantization\n",
      "  warnings.warn(f\"MatMul8bitLt: inputs will be cast from {A.dtype} to float16 during quantization\")\n"
     ]
    },
    {
     "name": "stdout",
     "output_type": "stream",
     "text": [
      "Accuracy: 0.879\n",
      "---positive is plausible\n",
      "Precision: 0.867\n",
      "Recall: 0.878\n",
      "F-score: 0.873\n",
      "---positive is implausible\n",
      "Precision: 0.889\n",
      "Recall: 0.879\n",
      "F-score: 0.884\n"
     ]
    }
   ],
   "source": [
    "text_list, preds,the_labels = do_inference_analysis(eval_dataloader)"
   ]
  },
  {
   "cell_type": "code",
   "execution_count": null,
   "metadata": {},
   "outputs": [],
   "source": []
  },
  {
   "cell_type": "code",
   "execution_count": 19,
   "metadata": {},
   "outputs": [],
   "source": [
    "# save_dir= \"./after_finetuned_llama2_7B_un_merge\"\n",
    "# model.save_pretrained(save_dir,safe_safetensors=True)\n",
    "# save_dir_tokenizer= save_dir+\"/tokenizer\"\n",
    "# tokenizer.save_pretrained(save_dir_tokenizer)"
   ]
  },
  {
   "cell_type": "code",
   "execution_count": 21,
   "metadata": {},
   "outputs": [],
   "source": [
    "#model.merge_and_unload()"
   ]
  },
  {
   "cell_type": "markdown",
   "metadata": {},
   "source": [
    "##  Problem: Loading the model after saving will encounter problems:\n",
    "### 1. save model before using model.merge_and_unload() : \n",
    "#### Reload success. But after saving and loading the model, the performance is not the same (almost as bad as the original model).\n",
    "### 2. save model after using model.merge_and_unload(): \n",
    "#### Reload fail. Get error: SafetensorError: Error while deserializing header: InvalidHeaderDeserialization\n",
    "\n",
    "This problem has not been solved yet."
   ]
  }
 ],
 "metadata": {
  "kernelspec": {
   "display_name": "night",
   "language": "python",
   "name": "python3"
  },
  "language_info": {
   "codemirror_mode": {
    "name": "ipython",
    "version": 3
   },
   "file_extension": ".py",
   "mimetype": "text/x-python",
   "name": "python",
   "nbconvert_exporter": "python",
   "pygments_lexer": "ipython3",
   "version": "3.9.18"
  }
 },
 "nbformat": 4,
 "nbformat_minor": 2
}
