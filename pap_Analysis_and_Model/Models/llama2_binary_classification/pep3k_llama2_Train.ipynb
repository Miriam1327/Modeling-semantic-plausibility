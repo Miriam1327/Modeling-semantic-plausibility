{
 "cells": [
  {
   "cell_type": "code",
   "execution_count": 1,
   "metadata": {},
   "outputs": [
    {
     "name": "stderr",
     "output_type": "stream",
     "text": [
      "/home/linux1/miniconda3/envs/llama2pep/lib/python3.9/site-packages/tqdm/auto.py:21: TqdmWarning: IProgress not found. Please update jupyter and ipywidgets. See https://ipywidgets.readthedocs.io/en/stable/user_install.html\n",
      "  from .autonotebook import tqdm as notebook_tqdm\n",
      "/home/linux1/miniconda3/envs/llama2pep/lib/python3.9/site-packages/transformers/utils/generic.py:441: UserWarning: torch.utils._pytree._register_pytree_node is deprecated. Please use torch.utils._pytree.register_pytree_node instead.\n",
      "  _torch_pytree._register_pytree_node(\n",
      "/home/linux1/miniconda3/envs/llama2pep/lib/python3.9/site-packages/transformers/utils/generic.py:309: UserWarning: torch.utils._pytree._register_pytree_node is deprecated. Please use torch.utils._pytree.register_pytree_node instead.\n",
      "  _torch_pytree._register_pytree_node(\n"
     ]
    }
   ],
   "source": [
    "import os\n",
    "import torch\n",
    "from accelerate import Accelerator\n",
    "\n",
    "from llama2_Model import  llama2_7b_Model_peft\n",
    "from pep_Dataloader import pep_Dataloader\n",
    "from evaluation import get_accuracy, get_precision_recall"
   ]
  },
  {
   "cell_type": "code",
   "execution_count": 20,
   "metadata": {},
   "outputs": [],
   "source": [
    "from evaluation import get_accuracy, get_precision_recall"
   ]
  },
  {
   "cell_type": "code",
   "execution_count": 2,
   "metadata": {},
   "outputs": [
    {
     "name": "stdout",
     "output_type": "stream",
     "text": [
      "Sun Jan 21 14:09:54 2024       \n",
      "+---------------------------------------------------------------------------------------+\n",
      "| NVIDIA-SMI 545.29.01              Driver Version: 546.01       CUDA Version: 12.3     |\n",
      "|-----------------------------------------+----------------------+----------------------+\n",
      "| GPU  Name                 Persistence-M | Bus-Id        Disp.A | Volatile Uncorr. ECC |\n",
      "| Fan  Temp   Perf          Pwr:Usage/Cap |         Memory-Usage | GPU-Util  Compute M. |\n",
      "|                                         |                      |               MIG M. |\n",
      "|=========================================+======================+======================|\n",
      "|   0  NVIDIA GeForce RTX 4060 ...    On  | 00000000:01:00.0 Off |                  N/A |\n",
      "| N/A   47C    P0              12W /  80W |      0MiB /  8188MiB |      0%      Default |\n",
      "|                                         |                      |                  N/A |\n",
      "+-----------------------------------------+----------------------+----------------------+\n",
      "                                                                                         \n",
      "+---------------------------------------------------------------------------------------+\n",
      "| Processes:                                                                            |\n",
      "|  GPU   GI   CI        PID   Type   Process name                            GPU Memory |\n",
      "|        ID   ID                                                             Usage      |\n",
      "|=======================================================================================|\n",
      "|  No running processes found                                                           |\n",
      "+---------------------------------------------------------------------------------------+\n"
     ]
    }
   ],
   "source": [
    "! nvidia-smi"
   ]
  },
  {
   "cell_type": "markdown",
   "metadata": {},
   "source": [
    "### Get model and dataloader"
   ]
  },
  {
   "cell_type": "code",
   "execution_count": 3,
   "metadata": {},
   "outputs": [],
   "source": [
    "def get_filepath(name,classnum_name,file_name):\n",
    "    '''\n",
    "    param name: name of the dataset, pep-3k or pap\n",
    "    param classnum_name: for pap dataset, binary or multiclass\n",
    "    param file_name: dev, test, train\n",
    "    return: the str of apath of the file\n",
    "    '''\n",
    "    current_dir =os.path.realpath(\".\")\n",
    "    parent_dir = os.path.abspath(os.path.join(current_dir, os.pardir))\n",
    "    parent_dir = os.path.abspath(os.path.join(parent_dir, os.pardir))\n",
    "    parent_dir = os.path.abspath(os.path.join(parent_dir, os.pardir))\n",
    "    if name=='pap':\n",
    "        filepath=os.path.abspath(os.path.join(parent_dir,'Data',name,'train-dev-test-split-filtered',classnum_name,file_name+'.csv'))\n",
    "    else:\n",
    "        filepath=os.path.abspath(os.path.join(parent_dir,'Data',name,'train-dev-test-split',classnum_name,file_name+'.csv'))\n",
    "    print(filepath)\n",
    "    return filepath\n"
   ]
  },
  {
   "cell_type": "code",
   "execution_count": 4,
   "metadata": {},
   "outputs": [
    {
     "name": "stdout",
     "output_type": "stream",
     "text": [
      "/home/linux1/BOX/modeling23/Data/pep-3k/train-dev-test-split/train.csv\n",
      "/home/linux1/BOX/modeling23/Data/pep-3k/train-dev-test-split/dev.csv\n",
      "/home/linux1/BOX/modeling23/Data/pep-3k/train-dev-test-split/test.csv\n"
     ]
    }
   ],
   "source": [
    "# Model from Hugging Face hub\n",
    "base_model= \"meta-llama/Llama-2-7b-hf\"\n",
    "\n",
    "filepath1=get_filepath('pep-3k','','train')\n",
    "filepath2=get_filepath('pep-3k','','dev')\n",
    "filepath3=get_filepath('pep-3k','','test')\n"
   ]
  },
  {
   "cell_type": "code",
   "execution_count": 5,
   "metadata": {},
   "outputs": [
    {
     "name": "stderr",
     "output_type": "stream",
     "text": [
      "Loading checkpoint shards: 100%|██████████| 2/2 [00:14<00:00,  7.10s/it]\n",
      "Some weights of LlamaForSequenceClassification were not initialized from the model checkpoint at meta-llama/Llama-2-7b-hf and are newly initialized: ['score.weight']\n",
      "You should probably TRAIN this model on a down-stream task to be able to use it for predictions and inference.\n"
     ]
    },
    {
     "name": "stdout",
     "output_type": "stream",
     "text": [
      "Original number of parameters: 6607351808\n",
      "LlamaForSequenceClassification(\n",
      "  (model): LlamaModel(\n",
      "    (embed_tokens): Embedding(32000, 4096)\n",
      "    (layers): ModuleList(\n",
      "      (0-31): 32 x LlamaDecoderLayer(\n",
      "        (self_attn): LlamaSdpaAttention(\n",
      "          (q_proj): Linear8bitLt(in_features=4096, out_features=4096, bias=False)\n",
      "          (k_proj): Linear8bitLt(in_features=4096, out_features=4096, bias=False)\n",
      "          (v_proj): Linear8bitLt(in_features=4096, out_features=4096, bias=False)\n",
      "          (o_proj): Linear8bitLt(in_features=4096, out_features=4096, bias=False)\n",
      "          (rotary_emb): LlamaRotaryEmbedding()\n",
      "        )\n",
      "        (mlp): LlamaMLP(\n",
      "          (gate_proj): Linear8bitLt(in_features=4096, out_features=11008, bias=False)\n",
      "          (up_proj): Linear8bitLt(in_features=4096, out_features=11008, bias=False)\n",
      "          (down_proj): Linear8bitLt(in_features=11008, out_features=4096, bias=False)\n",
      "          (act_fn): SiLU()\n",
      "        )\n",
      "        (input_layernorm): LlamaRMSNorm()\n",
      "        (post_attention_layernorm): LlamaRMSNorm()\n",
      "      )\n",
      "    )\n",
      "    (norm): LlamaRMSNorm()\n",
      "  )\n",
      "  (score): Linear(in_features=4096, out_features=2, bias=False)\n",
      ")\n",
      "trainable params: 4,194,304 || all params: 6,611,546,112 || trainable%: 0.06343907958816639\n"
     ]
    }
   ],
   "source": [
    "# from transformers import AutoTokenizer, AutoModelForCausalLM     \n",
    "\n",
    "# tokenizer = AutoTokenizer.from_pretrained(\"meta-llama/Llama-2-7b-chat-hf\") \n",
    "# model = AutoModelForCausalLM.from_pretrained(\"meta-llama/Llama-2-7b-chat-hf\")  \n",
    "llama_model = llama2_7b_Model_peft(base_model)\n",
    "tokenizer = llama_model.tokenizer"
   ]
  },
  {
   "cell_type": "code",
   "execution_count": 6,
   "metadata": {},
   "outputs": [
    {
     "name": "stderr",
     "output_type": "stream",
     "text": [
      "Generating train split: 2448 examples [00:00, 103459.75 examples/s]\n",
      "Map:   0%|          | 0/2448 [00:00<?, ? examples/s]Asking to truncate to max_length but no maximum length is provided and the model has no predefined maximum length. Default to no truncation.\n",
      "Map: 100%|██████████| 2448/2448 [00:00<00:00, 38453.05 examples/s]\n"
     ]
    }
   ],
   "source": [
    "train_dataloader_object=pep_Dataloader(filepath1,tokenizer,3)\n",
    "eval_dataloader_object=pep_Dataloader(filepath2,tokenizer,'defalut')\n",
    "test_dataloader_object=pep_Dataloader(filepath3,tokenizer,'defalut')"
   ]
  },
  {
   "cell_type": "code",
   "execution_count": 7,
   "metadata": {},
   "outputs": [
    {
     "name": "stdout",
     "output_type": "stream",
     "text": [
      "train_dataloader_object: Dataset({\n",
      "    features: ['label', 'text'],\n",
      "    num_rows: 2448\n",
      "})\n"
     ]
    }
   ],
   "source": [
    "print(\"train_dataloader_object:\",train_dataloader_object.dataset)"
   ]
  },
  {
   "cell_type": "code",
   "execution_count": 9,
   "metadata": {},
   "outputs": [
    {
     "name": "stdout",
     "output_type": "stream",
     "text": [
      "cuda\n"
     ]
    }
   ],
   "source": [
    "from torch.optim import AdamW\n",
    "from tqdm.auto import tqdm\n",
    "import torch.nn as nn\n",
    "from transformers import get_scheduler\n",
    "\n",
    "optimizer = AdamW(llama_model.model.parameters(), lr=1e-4 )#5e-5)\n",
    "loss_fn = nn.CrossEntropyLoss()\n",
    "\n",
    "accelerator = Accelerator()\n",
    "train_dataloader, eval_dataloader,test_dataloader, model, optimizer = accelerator.prepare(\n",
    "    train_dataloader_object.dataloader, eval_dataloader_object.dataloader, test_dataloader_object.dataloader , llama_model.model, optimizer\n",
    ")\n",
    "\n",
    "num_epochs = 3\n",
    "num_training_steps = num_epochs * len(train_dataloader_object.dataset)\n",
    "\n",
    "#learning rate adjustment:\n",
    "lr_scheduler = get_scheduler( \n",
    "    name=\"linear\", optimizer=optimizer, num_warmup_steps=0, num_training_steps=num_training_steps\n",
    ")\n",
    "\n",
    "device = torch.device(\"cuda\") if torch.cuda.is_available() else torch.device(\"cpu\")\n",
    "print(device)"
   ]
  },
  {
   "cell_type": "markdown",
   "metadata": {},
   "source": [
    "### Check original model with test data"
   ]
  },
  {
   "cell_type": "code",
   "execution_count": 21,
   "metadata": {},
   "outputs": [],
   "source": [
    "def do_inference(dataloader):\n",
    "    model.eval()\n",
    "    with torch.no_grad():\n",
    "        for labels,text in dataloader:\n",
    "            logits = model(**text).logits\n",
    "            the_labels=labels\n",
    "            get_accuracy(logits, the_labels,flag2='print')\n",
    "            get_precision_recall(logits, the_labels,flag2='print')\n",
    "            get_precision_recall(logits, the_labels,flag='false',flag2='print')"
   ]
  },
  {
   "cell_type": "code",
   "execution_count": 11,
   "metadata": {},
   "outputs": [
    {
     "name": "stderr",
     "output_type": "stream",
     "text": [
      "/home/linux1/miniconda3/envs/llama2pep/lib/python3.9/site-packages/bitsandbytes/autograd/_functions.py:322: UserWarning: MatMul8bitLt: inputs will be cast from torch.float32 to float16 during quantization\n",
      "  warnings.warn(f\"MatMul8bitLt: inputs will be cast from {A.dtype} to float16 during quantization\")\n"
     ]
    },
    {
     "name": "stdout",
     "output_type": "stream",
     "text": [
      "Accuracy: 0.472\n",
      "true_positives: 4\n",
      "false_positives: 13\n",
      "false_negatives: 149\n",
      "true_negatives: 141\n",
      "---positive is plausible\n",
      "Precision: 0.235\n",
      "Recall: 0.026\n",
      "F-score: 0.047\n",
      "true_positives: 4\n",
      "false_positives: 13\n",
      "false_negatives: 149\n",
      "true_negatives: 141\n",
      "---positive is implausible\n",
      "Precision: 0.486\n",
      "Recall: 0.916\n",
      "F-score: 0.635\n"
     ]
    }
   ],
   "source": [
    "do_inference(test_dataloader)"
   ]
  },
  {
   "cell_type": "markdown",
   "metadata": {},
   "source": [
    "### Train"
   ]
  },
  {
   "cell_type": "code",
   "execution_count": 12,
   "metadata": {},
   "outputs": [],
   "source": [
    "loss_list=[]\n",
    "accuracy_list=[]\n",
    "loss_sum=0\n",
    "accuracy_sum=0"
   ]
  },
  {
   "cell_type": "code",
   "execution_count": 13,
   "metadata": {},
   "outputs": [
    {
     "name": "stdout",
     "output_type": "stream",
     "text": [
      "3\n",
      "816\n",
      "2448\n",
      "122.4\n",
      "thelabels: tensor([0, 0, 1], device='cuda:0')\n",
      "text: {'input_ids': tensor([[    1,  4552,   561,   424,   528,  1296, 25158,     2,     2,     2],\n",
      "        [    1,  6114,   330,  6472,  8805,     2,     2,     2,     2,     2],\n",
      "        [    1,  7679,  2181,  1878,  3800,     2,     2,     2,     2,     2]],\n",
      "       device='cuda:0'), 'attention_mask': tensor([[1, 1, 1, 1, 1, 1, 1, 0, 0, 0],\n",
      "        [1, 1, 1, 1, 1, 0, 0, 0, 0, 0],\n",
      "        [1, 1, 1, 1, 1, 0, 0, 0, 0, 0]], device='cuda:0')}\n"
     ]
    }
   ],
   "source": [
    "print(num_epochs)\n",
    "print(len(train_dataloader))\n",
    "num_training_steps = num_epochs * len(train_dataloader)\n",
    "print(num_training_steps)\n",
    "print(num_training_steps/20)\n",
    "# print(int(num_training_steps/30))\n",
    "for thelabels,text in train_dataloader:\n",
    "    print('thelabels:',thelabels)\n",
    "    print('text:',text)\n",
    "    break"
   ]
  },
  {
   "cell_type": "code",
   "execution_count": null,
   "metadata": {},
   "outputs": [],
   "source": [
    "# train\n",
    "progress_bar = tqdm(range(int(num_training_steps/20)))\n",
    "\n",
    "flag=0\n",
    "for epoch in range(num_epochs):\n",
    "    for thelabels,text in train_dataloader:\n",
    "        model.train()\n",
    "        outputs = model(**text)\n",
    "        logits = outputs.logits\n",
    "        print('logits:',logits)\n",
    "        print('thelabels:',thelabels)\n",
    "        loss = loss_fn(logits.squeeze(), thelabels)\n",
    "        accelerator.backward(loss)\n",
    "        optimizer.step()\n",
    "        lr_scheduler.step()\n",
    "        optimizer.zero_grad()\n",
    "        flag+=1\n",
    "\n",
    "        loss_sum += int(loss.item())\n",
    "        a=get_accuracy(logits, thelabels)\n",
    "        accuracy_sum+=a\n",
    "\n",
    "        if flag%20==0:\n",
    "            print(flag,'loss:,',loss_sum/flag, 'accuarcy:',accuracy_sum/flag)\n",
    "            loss_list.append(loss_sum/flag)\n",
    "            accuracy_list.append(accuracy_sum/flag)\n",
    "            progress_bar.update(1)"
   ]
  },
  {
   "cell_type": "code",
   "execution_count": 15,
   "metadata": {},
   "outputs": [
    {
     "data": {
      "image/png": "[encoded data removed]",
      "text/plain": [
       "<Figure size 640x480 with 1 Axes>"
      ]
     },
     "metadata": {},
     "output_type": "display_data"
    }
   ],
   "source": [
    "# print(loss_list)\n",
    "# print(accuracy_list)\n",
    "\n",
    "import matplotlib.pyplot as plt\n",
    "\n",
    "# Plotting the data\n",
    "plt.plot(loss_list, label='Train_Loss', marker='o')\n",
    "plt.plot(accuracy_list, label='Train_Accuracy', marker='o')\n",
    "\n",
    "# Adding labels and title\n",
    "plt.xlabel('Point (60 sample data per point)')\n",
    "plt.ylabel('Value')\n",
    "plt.title('Loss and Accuracy')\n",
    "\n",
    "# Adding a legend\n",
    "plt.legend()\n",
    "\n",
    "# Display the plot\n",
    "plt.show()\n"
   ]
  },
  {
   "cell_type": "code",
   "execution_count": 22,
   "metadata": {},
   "outputs": [
    {
     "name": "stdout",
     "output_type": "stream",
     "text": [
      "Accuracy: 0.863\n",
      "true_positives: 140\n",
      "false_positives: 29\n",
      "false_negatives: 13\n",
      "true_negatives: 125\n",
      "---positive is plausible\n",
      "Precision: 0.828\n",
      "Recall: 0.915\n",
      "F-score: 0.870\n",
      "true_positives: 140\n",
      "false_positives: 29\n",
      "false_negatives: 13\n",
      "true_negatives: 125\n",
      "---positive is implausible\n",
      "Precision: 0.906\n",
      "Recall: 0.812\n",
      "F-score: 0.856\n"
     ]
    }
   ],
   "source": [
    "do_inference(test_dataloader)"
   ]
  },
  {
   "cell_type": "code",
   "execution_count": 23,
   "metadata": {},
   "outputs": [
    {
     "name": "stderr",
     "output_type": "stream",
     "text": [
      "/home/linux1/miniconda3/envs/llama2pep/lib/python3.9/site-packages/bitsandbytes/autograd/_functions.py:322: UserWarning: MatMul8bitLt: inputs will be cast from torch.float32 to float16 during quantization\n",
      "  warnings.warn(f\"MatMul8bitLt: inputs will be cast from {A.dtype} to float16 during quantization\")\n"
     ]
    },
    {
     "name": "stdout",
     "output_type": "stream",
     "text": [
      "Accuracy: 0.824\n",
      "true_positives: 129\n",
      "false_positives: 30\n",
      "false_negatives: 24\n",
      "true_negatives: 123\n",
      "---positive is plausible\n",
      "Precision: 0.811\n",
      "Recall: 0.843\n",
      "F-score: 0.827\n",
      "true_positives: 129\n",
      "false_positives: 30\n",
      "false_negatives: 24\n",
      "true_negatives: 123\n",
      "---positive is implausible\n",
      "Precision: 0.837\n",
      "Recall: 0.804\n",
      "F-score: 0.820\n"
     ]
    }
   ],
   "source": [
    "do_inference(eval_dataloader)"
   ]
  },
  {
   "cell_type": "code",
   "execution_count": null,
   "metadata": {},
   "outputs": [],
   "source": []
  },
  {
   "cell_type": "code",
   "execution_count": null,
   "metadata": {},
   "outputs": [],
   "source": [
    "# save_dir= \"./after_finetuned_llama2_7B_un_merge\"\n",
    "# model.save_pretrained(save_dir,safe_safetensors=True)\n",
    "# save_dir_tokenizer= save_dir+\"/tokenizer\"\n",
    "# tokenizer.save_pretrained(save_dir_tokenizer)"
   ]
  },
  {
   "cell_type": "code",
   "execution_count": 18,
   "metadata": {},
   "outputs": [],
   "source": [
    "#model.merge_and_unload()"
   ]
  },
  {
   "cell_type": "markdown",
   "metadata": {},
   "source": [
    "##  Problem: Loading the model after saving will encounter problems:\n",
    "### 1. save model before using model.merge_and_unload() : \n",
    "#### Reload success. But after saving and loading the model, the performance is not the same (almost as bad as the original model).\n",
    "### 2. save model after using model.merge_and_unload(): \n",
    "#### Reload fail. Get error: SafetensorError: Error while deserializing header: InvalidHeaderDeserialization\n",
    "\n",
    "This problem has not been solved yet."
   ]
  }
 ],
 "metadata": {
  "kernelspec": {
   "display_name": "night",
   "language": "python",
   "name": "python3"
  },
  "language_info": {
   "codemirror_mode": {
    "name": "ipython",
    "version": 3
   },
   "file_extension": ".py",
   "mimetype": "text/x-python",
   "name": "python",
   "nbconvert_exporter": "python",
   "pygments_lexer": "ipython3",
   "version": "3.9.18"
  }
 },
 "nbformat": 4,
 "nbformat_minor": 2
}
