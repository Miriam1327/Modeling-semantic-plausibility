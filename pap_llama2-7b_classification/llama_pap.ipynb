{
 "cells": [
  {
   "cell_type": "code",
   "execution_count": 1,
   "metadata": {},
   "outputs": [
    {
     "name": "stderr",
     "output_type": "stream",
     "text": [
      "/home/linux1/miniconda3/envs/night/lib/python3.9/site-packages/tqdm/auto.py:21: TqdmWarning: IProgress not found. Please update jupyter and ipywidgets. See https://ipywidgets.readthedocs.io/en/stable/user_install.html\n",
      "  from .autonotebook import tqdm as notebook_tqdm\n",
      "/home/linux1/miniconda3/envs/night/lib/python3.9/site-packages/transformers/utils/generic.py:311: UserWarning: torch.utils._pytree._register_pytree_node is deprecated. Please use torch.utils._pytree.register_pytree_node instead.\n",
      "  torch.utils._pytree._register_pytree_node(\n",
      "/home/linux1/miniconda3/envs/night/lib/python3.9/site-packages/transformers/utils/generic.py:311: UserWarning: torch.utils._pytree._register_pytree_node is deprecated. Please use torch.utils._pytree.register_pytree_node instead.\n",
      "  torch.utils._pytree._register_pytree_node(\n"
     ]
    }
   ],
   "source": [
    "import os\n",
    "import torch\n",
    "from datasets import load_dataset\n",
    "from transformers import (\n",
    "    AutoConfig,\n",
    "    AutoModelForCausalLM,\n",
    "    AutoTokenizer,\n",
    "    BitsAndBytesConfig,\n",
    "    TrainingArguments,\n",
    "    pipeline,\n",
    "    logging,\n",
    "    LlamaForSequenceClassification,\n",
    "    LlamaTokenizer\n",
    ")\n",
    "from peft import LoraConfig\n",
    "from trl import SFTTrainer\n",
    "from accelerate import Accelerator\n",
    "from torch.utils.data import DataLoader\n",
    "from datasets import Dataset\n",
    "\n"
   ]
  },
  {
   "cell_type": "markdown",
   "metadata": {},
   "source": [
    "# Step 0. prepare llama training model and env\n",
    "(not finish)"
   ]
  },
  {
   "cell_type": "code",
   "execution_count": null,
   "metadata": {},
   "outputs": [],
   "source": [
    "# ! conda install pytorch torchvision torchaudio pytorch-cuda=11.8 -c pytorch-nightly -c nvidia\n",
    "# ! pip install sentencepiece\n",
    "# ! pip install  trl \n",
    "# ! pip install tensorboard\n",
    "# ! pip install matplotlib"
   ]
  },
  {
   "cell_type": "markdown",
   "metadata": {},
   "source": [
    "# step 1. datasets"
   ]
  },
  {
   "cell_type": "code",
   "execution_count": 5,
   "metadata": {},
   "outputs": [],
   "source": [
    "# Model from Hugging Face hub\n",
    "base_model= \"meta-llama/Llama-2-7b-hf\"\n",
    "\n",
    "# The instruction dataset to use\n",
    "dataset_name1 = \"/home/linux1/BOX/modeling23/Data/pap/train-dev-test-split-filtered/binary/train.csv\"\n",
    "dataset_name2 = \"/home/linux1/BOX/modeling23/Data/pap/train-dev-test-split-filtered/binary/dev.csv\"\n",
    "dataset_name3 = \"/home/linux1/BOX/modeling23/Data/pap/train-dev-test-split-filtered/binary/test.csv\""
   ]
  },
  {
   "cell_type": "code",
   "execution_count": 6,
   "metadata": {},
   "outputs": [
    {
     "name": "stdout",
     "output_type": "stream",
     "text": [
      "Number of prompts: 1386\n",
      "Column names are: ['text', 'original_label', 'label']\n"
     ]
    }
   ],
   "source": [
    "dataset_train = load_dataset(\"csv\", data_files = dataset_name1 , split = \"train\")\n",
    "dataset_eval = load_dataset(\"csv\", data_files = dataset_name2 ,split='train')\n",
    "dataset_test = load_dataset(\"csv\", data_files = dataset_name3 ,split='train')\n",
    "\n",
    "print(f'Number of prompts: {len(dataset_train)}')\n",
    "print(f'Column names are: {dataset_train.column_names}')"
   ]
  },
  {
   "cell_type": "markdown",
   "metadata": {},
   "source": [
    "# Step 2. Get the model"
   ]
  },
  {
   "cell_type": "code",
   "execution_count": 7,
   "metadata": {},
   "outputs": [],
   "source": [
    "accelerator = Accelerator()\n",
    "tokenizer= AutoTokenizer.from_pretrained(base_model)"
   ]
  },
  {
   "cell_type": "code",
   "execution_count": 8,
   "metadata": {},
   "outputs": [],
   "source": [
    "def set_all_model_need(base_model):\n",
    "    compute_dtype = getattr(torch, \"float16\")\n",
    "\n",
    "    id2label = {0: \"implausible\", 1: \"plausible\"}\n",
    "    label2id = {\"implausible\": 0, \"plausible\": 1}\n",
    "\n",
    "    quant_config = BitsAndBytesConfig(\n",
    "        load_in_8bit=True,\n",
    "        bnb_8bit_quant_type=\"nf8\",\n",
    "        bnb_8bit_compute_dtype=compute_dtype,\n",
    "        bnb_8bit_use_double_quant=False,\n",
    "    )\n",
    "\n",
    "    model = LlamaForSequenceClassification.from_pretrained(\n",
    "        base_model,\n",
    "        quantization_config=quant_config,\n",
    "        device_map={\"\": 0},\n",
    "        num_labels=2, id2label=id2label, label2id=label2id\n",
    "        )\n",
    "    model.config.use_cache = False\n",
    "    model.config.pretraining_tp = 1\n",
    "    print(\"Original number of parameters:\", sum(p.numel() for p in model.parameters()))\n",
    "    print(model)\n",
    "    return model"
   ]
  },
  {
   "cell_type": "code",
   "execution_count": 9,
   "metadata": {},
   "outputs": [
    {
     "name": "stderr",
     "output_type": "stream",
     "text": [
      "Loading checkpoint shards: 100%|██████████| 2/2 [00:13<00:00,  6.75s/it]\n",
      "Some weights of LlamaForSequenceClassification were not initialized from the model checkpoint at meta-llama/Llama-2-7b-hf and are newly initialized: ['score.weight']\n",
      "You should probably TRAIN this model on a down-stream task to be able to use it for predictions and inference.\n"
     ]
    },
    {
     "name": "stdout",
     "output_type": "stream",
     "text": [
      "Original number of parameters: 6607351808\n",
      "LlamaForSequenceClassification(\n",
      "  (model): LlamaModel(\n",
      "    (embed_tokens): Embedding(32000, 4096)\n",
      "    (layers): ModuleList(\n",
      "      (0-31): 32 x LlamaDecoderLayer(\n",
      "        (self_attn): LlamaAttention(\n",
      "          (q_proj): Linear8bitLt(in_features=4096, out_features=4096, bias=False)\n",
      "          (k_proj): Linear8bitLt(in_features=4096, out_features=4096, bias=False)\n",
      "          (v_proj): Linear8bitLt(in_features=4096, out_features=4096, bias=False)\n",
      "          (o_proj): Linear8bitLt(in_features=4096, out_features=4096, bias=False)\n",
      "          (rotary_emb): LlamaRotaryEmbedding()\n",
      "        )\n",
      "        (mlp): LlamaMLP(\n",
      "          (gate_proj): Linear8bitLt(in_features=4096, out_features=11008, bias=False)\n",
      "          (up_proj): Linear8bitLt(in_features=4096, out_features=11008, bias=False)\n",
      "          (down_proj): Linear8bitLt(in_features=11008, out_features=4096, bias=False)\n",
      "          (act_fn): SiLUActivation()\n",
      "        )\n",
      "        (input_layernorm): LlamaRMSNorm()\n",
      "        (post_attention_layernorm): LlamaRMSNorm()\n",
      "      )\n",
      "    )\n",
      "    (norm): LlamaRMSNorm()\n",
      "  )\n",
      "  (score): Linear(in_features=4096, out_features=2, bias=False)\n",
      ")\n"
     ]
    }
   ],
   "source": [
    "model=set_all_model_need(base_model)"
   ]
  },
  {
   "cell_type": "markdown",
   "metadata": {},
   "source": [
    "# Step 3. Get tokenizer and dataloader"
   ]
  },
  {
   "cell_type": "markdown",
   "metadata": {},
   "source": [
    "### re-built dataset"
   ]
  },
  {
   "cell_type": "code",
   "execution_count": 10,
   "metadata": {},
   "outputs": [],
   "source": [
    "label2id = {\"implausible\": 0, \"plausible\": 1}\n",
    "train_labels = [label2id[label] for label in dataset_train[\"original_label\"]]\n",
    "eval_labels = [label2id[label] for label in dataset_eval[\"original_label\"]]\n",
    "test_labels = [label2id[label] for label in dataset_test[\"original_label\"]]\n",
    "\n",
    "new_train_dataset =  Dataset.from_dict({\n",
    "    'text': dataset_train['text'],\n",
    "    'labels': train_labels # Update 'original_label' with train_list\n",
    "})\n",
    "\n",
    "new_eval_dataset =  Dataset.from_dict({\n",
    "    'text': dataset_eval['text'],\n",
    "    'labels': eval_labels \n",
    "})\n",
    "\n",
    "new_test_dataset =  Dataset.from_dict({\n",
    "    'text': dataset_test['text'],\n",
    "    'labels': test_labels \n",
    "})"
   ]
  },
  {
   "cell_type": "markdown",
   "metadata": {},
   "source": [
    "### tokenize text"
   ]
  },
  {
   "cell_type": "code",
   "execution_count": 11,
   "metadata": {},
   "outputs": [],
   "source": [
    "def tokenize_function(examples):\n",
    "    return tokenizer(examples[\"text\"], padding=True, truncation=True,return_tensors=\"pt\").to(\"cuda\") "
   ]
  },
  {
   "cell_type": "code",
   "execution_count": 12,
   "metadata": {},
   "outputs": [],
   "source": [
    "tokenizer.pad_token = tokenizer.eos_token\n",
    "tokenizer.padding_side = \"right\"\n",
    "model.config.pad_token_id = model.config.eos_token_id"
   ]
  },
  {
   "cell_type": "code",
   "execution_count": 13,
   "metadata": {},
   "outputs": [
    {
     "name": "stderr",
     "output_type": "stream",
     "text": [
      "Map:   0%|          | 0/1386 [00:00<?, ? examples/s]Asking to truncate to max_length but no maximum length is provided and the model has no predefined maximum length. Default to no truncation.\n",
      "Map: 100%|██████████| 1386/1386 [00:00<00:00, 19429.76 examples/s]\n",
      "Map: 100%|██████████| 173/173 [00:00<00:00, 15007.54 examples/s]\n",
      "Map: 100%|██████████| 174/174 [00:00<00:00, 14135.37 examples/s]"
     ]
    },
    {
     "name": "stdout",
     "output_type": "stream",
     "text": [
      "{'labels': 1, 'input_ids': [1, 2318, 27474, 3769, 2, 2, 2, 2, 2, 2, 2, 2, 2], 'attention_mask': [1, 1, 1, 1, 0, 0, 0, 0, 0, 0, 0, 0, 0]}\n",
      "<class 'dict'>\n",
      "[1, 2318, 27474, 3769, 2, 2, 2, 2, 2, 2, 2, 2, 2]\n",
      "<class 'list'>\n",
      "1\n",
      "<class 'int'>\n"
     ]
    },
    {
     "name": "stderr",
     "output_type": "stream",
     "text": [
      "\n"
     ]
    }
   ],
   "source": [
    "tokenized_datasets_train =new_train_dataset.map(tokenize_function, batched=True,batch_size=len(new_train_dataset))\n",
    "tokenized_datasets_train  =tokenized_datasets_train .remove_columns([\"text\"])\n",
    "\n",
    "tokenized_datasets_eval =new_eval_dataset.map(tokenize_function, batched=True,batch_size=len(new_eval_dataset))\n",
    "tokenized_datasets_eval =tokenized_datasets_eval.remove_columns([\"text\"])\n",
    "\n",
    "tokenized_datasets_test =new_test_dataset.map(tokenize_function, batched=True,batch_size=len(new_test_dataset))\n",
    "tokenized_datasets_test =tokenized_datasets_test.remove_columns([\"text\"])\n",
    "\n",
    "print(tokenized_datasets_train [0])\n",
    "print(type(tokenized_datasets_train [0]))\n",
    "print(tokenized_datasets_train [0]['input_ids'])   \n",
    "print(type(tokenized_datasets_train [0]['input_ids']))\n",
    "print(tokenized_datasets_train [0]['input_ids'][0])\n",
    "print(type(tokenized_datasets_train [0]['input_ids'][0]))"
   ]
  },
  {
   "cell_type": "markdown",
   "metadata": {},
   "source": [
    "### dataloader"
   ]
  },
  {
   "cell_type": "code",
   "execution_count": 14,
   "metadata": {},
   "outputs": [],
   "source": [
    "## collate_fn\n",
    "def collate(batch):  #to padding the features data\n",
    "    labels=[]\n",
    "    ids_all=[]\n",
    "    attention_mask=[]\n",
    "    #print(batch)\n",
    "\n",
    "    for i in batch:\n",
    "        #print('i:',i)\n",
    "        a=torch.tensor(i['input_ids'])\n",
    "        b=torch.tensor(i['attention_mask'])\n",
    "        c=torch.tensor(i['labels'])\n",
    "            \n",
    "        labels.append(c) #(label)\n",
    "        ids_all.append(a) #(input_ids)\n",
    "        attention_mask.append(b) #(attention_mask)\n",
    "\n",
    "    batch_of_labels=torch.stack(labels)\n",
    "    batch_of_attention_mask=torch.stack(attention_mask)\n",
    "    batch_of_ids=torch.stack(ids_all)\n",
    "    batch_of_text={'input_ids':batch_of_ids,'attention_mask':batch_of_attention_mask}\n",
    "\n",
    "    return batch_of_labels,batch_of_text"
   ]
  },
  {
   "cell_type": "code",
   "execution_count": 15,
   "metadata": {},
   "outputs": [],
   "source": [
    "from torch.utils.data import DataLoader\n",
    "\n",
    "train_dataloader = DataLoader(tokenized_datasets_train, shuffle=True, batch_size=2, collate_fn=collate)\n",
    "eval_dataloader = DataLoader(tokenized_datasets_eval, shuffle=True, batch_size=len(eval_labels), collate_fn=collate)\n",
    "test_dataloader = DataLoader(tokenized_datasets_test, shuffle=True, batch_size=len(test_labels), collate_fn=collate)"
   ]
  },
  {
   "cell_type": "markdown",
   "metadata": {},
   "source": [
    "# Step 3: Check base model"
   ]
  },
  {
   "cell_type": "code",
   "execution_count": 16,
   "metadata": {},
   "outputs": [],
   "source": [
    "import numpy as np\n",
    "def get_accuracy(acc_preds, acc_labels):\n",
    "    preds_np = acc_preds.detach().cpu().numpy()\n",
    "    preds = np.array([ i.argmax() for i in preds_np])\n",
    "    labels = np.array(acc_labels.cpu())\n",
    "    correct_count = (preds== labels).sum().item()\n",
    "    total_count = len(preds)\n",
    "\n",
    "    accuracy = correct_count / total_count\n",
    "    #print(f\"Accuracy: {accuracy:.3f}\")\n",
    "    return accuracy\n",
    "\n",
    "\n",
    "def get_precision_recall(preds, labels,flag='true'):\n",
    "    preds_np = preds.detach().cpu().numpy()\n",
    "    preds = np.array([ i.argmax() for i in preds_np])\n",
    "    labels = np.array(labels)\n",
    "    # print(preds)\n",
    "    # print(labels)\n",
    "\n",
    "    true_positives = ((preds == 1) & (labels == 1)).sum().item()\n",
    "    false_positives = ((preds == 1) & (labels == 0)).sum().item()\n",
    "    false_negatives = ((preds == 0) & (labels == 1)).sum().item()\n",
    "    true_negatives = ((preds == 0) & (labels == 0)).sum().item()\n",
    "\n",
    "    if flag=='true':   \n",
    "        #print('---positive is plausible') \n",
    "        precision = true_positives / (true_positives + false_positives) \n",
    "        recall = true_positives / (true_positives + false_negatives) \n",
    "    elif flag=='false':\n",
    "        #print('---positive is implausible')\n",
    "        precision = true_negatives  / (true_negatives  + false_negatives ) \n",
    "        recall = true_negatives  / (true_negatives  +false_positives ) \n",
    "\n",
    "    f_score = (2 * precision * recall) / (precision + recall)\n",
    "    # print(f\"Precision: {precision:.3f}\")\n",
    "    # print(f\"Recall: {recall:.3f}\")\n",
    "    # print(f\"F-score: {f_score:.3f}\")\n",
    "    \n",
    "    return precision, recall, f_score"
   ]
  },
  {
   "cell_type": "code",
   "execution_count": 17,
   "metadata": {},
   "outputs": [
    {
     "name": "stdout",
     "output_type": "stream",
     "text": [
      "Accuracy: 0.351\n",
      "---positive is plausible\n",
      "Precision: 0.368\n",
      "Recall: 0.263\n",
      "F-score: 0.307\n",
      "---positive is implausible\n",
      "Precision: 0.340\n",
      "Recall: 0.456\n",
      "F-score: 0.389\n"
     ]
    }
   ],
   "source": [
    "with torch.no_grad():\n",
    "    for labels,text in test_dataloader:\n",
    "        logits = model(**text).logits\n",
    "        the_labels=labels\n",
    "        a=get_accuracy(logits, the_labels)\n",
    "        print(f\"Accuracy: {a:.3f}\")\n",
    "        precision, recall, f_score=get_precision_recall(logits, the_labels)\n",
    "        print('---positive is plausible') \n",
    "        print(f\"Precision: {precision:.3f}\")\n",
    "        print(f\"Recall: {recall:.3f}\")\n",
    "        print(f\"F-score: {f_score:.3f}\")\n",
    "        precision, recall, f_score=get_precision_recall(logits, the_labels,flag='false')\n",
    "        print('---positive is implausible')\n",
    "        print(f\"Precision: {precision:.3f}\")\n",
    "        print(f\"Recall: {recall:.3f}\")\n",
    "        print(f\"F-score: {f_score:.3f}\")\n"
   ]
  },
  {
   "cell_type": "markdown",
   "metadata": {},
   "source": [
    "# Step 5. set peft"
   ]
  },
  {
   "cell_type": "code",
   "execution_count": 18,
   "metadata": {},
   "outputs": [],
   "source": [
    "from peft import (\n",
    "    get_peft_model,\n",
    "    LoraConfig,\n",
    "    TaskType,\n",
    "    prepare_model_for_int8_training,\n",
    "    PeftModel\n",
    ")"
   ]
  },
  {
   "cell_type": "code",
   "execution_count": 19,
   "metadata": {},
   "outputs": [
    {
     "name": "stdout",
     "output_type": "stream",
     "text": [
      "trainable params: 4,194,304 || all params: 6,611,546,112 || trainable%: 0.06343907958816639\n"
     ]
    }
   ],
   "source": [
    "def create_peft_config(model):\n",
    "\n",
    "    peft_config = LoraConfig(\n",
    "        task_type=TaskType.CAUSAL_LM,\n",
    "        inference_mode=False,\n",
    "        r=8,\n",
    "        lora_alpha=32,\n",
    "        lora_dropout=0.05,\n",
    "        target_modules = [\"q_proj\", \"v_proj\"]\n",
    "    )\n",
    "\n",
    "    model = get_peft_model(model, peft_config)\n",
    "    model.print_trainable_parameters()\n",
    "    return model, peft_config\n",
    "\n",
    "# create peft config\n",
    "model, lora_config = create_peft_config(model)"
   ]
  },
  {
   "cell_type": "markdown",
   "metadata": {},
   "source": [
    "# Step 6. train"
   ]
  },
  {
   "cell_type": "code",
   "execution_count": 20,
   "metadata": {},
   "outputs": [
    {
     "name": "stdout",
     "output_type": "stream",
     "text": [
      "cuda\n"
     ]
    }
   ],
   "source": [
    "from torch.optim import AdamW\n",
    "from tqdm.auto import tqdm\n",
    "import torch.nn as nn\n",
    "from transformers import get_scheduler\n",
    "\n",
    "optimizer = AdamW(model.parameters(), lr=1e-4 ) #5e-5)\n",
    "loss_fn = nn.CrossEntropyLoss()\n",
    "\n",
    "num_epochs = 3\n",
    "num_training_steps = num_epochs * len(train_dataloader)\n",
    "\n",
    "#learning rate adjustment:\n",
    "lr_scheduler = get_scheduler( \n",
    "    name=\"linear\", optimizer=optimizer, num_warmup_steps=0, num_training_steps=num_training_steps\n",
    ")\n",
    "\n",
    "device = torch.device(\"cuda\") if torch.cuda.is_available() else torch.device(\"cpu\")\n",
    "print(device)"
   ]
  },
  {
   "cell_type": "code",
   "execution_count": 21,
   "metadata": {},
   "outputs": [],
   "source": [
    "train_dataloader, eval_dataloader, model, optimizer = accelerator.prepare(\n",
    "    train_dataloader, eval_dataloader, model, optimizer\n",
    ")\n",
    "loss_list=[]\n",
    "accuracy_list=[]\n",
    "loss_sum=0\n",
    "accuracy_sum=0\n"
   ]
  },
  {
   "cell_type": "code",
   "execution_count": 23,
   "metadata": {},
   "outputs": [
    {
     "name": "stderr",
     "output_type": "stream",
     "text": [
      "  1%|▏         | 1/69 [00:23<27:04, 23.89s/it]"
     ]
    },
    {
     "name": "stdout",
     "output_type": "stream",
     "text": [
      "30 1.2 0.43333333333333335\n"
     ]
    },
    {
     "name": "stderr",
     "output_type": "stream",
     "text": [
      "  3%|▎         | 2/69 [00:45<25:16, 22.63s/it]"
     ]
    },
    {
     "name": "stdout",
     "output_type": "stream",
     "text": [
      "60 1.1 0.4583333333333333\n"
     ]
    },
    {
     "name": "stderr",
     "output_type": "stream",
     "text": [
      "  4%|▍         | 3/69 [01:07<24:30, 22.28s/it]"
     ]
    },
    {
     "name": "stdout",
     "output_type": "stream",
     "text": [
      "90 0.8111111111111111 0.49444444444444446\n"
     ]
    },
    {
     "name": "stderr",
     "output_type": "stream",
     "text": [
      "  6%|▌         | 4/69 [01:31<24:44, 22.84s/it]"
     ]
    },
    {
     "name": "stdout",
     "output_type": "stream",
     "text": [
      "120 0.7166666666666667 0.5041666666666667\n"
     ]
    },
    {
     "name": "stderr",
     "output_type": "stream",
     "text": [
      "  7%|▋         | 5/69 [01:53<24:01, 22.53s/it]"
     ]
    },
    {
     "name": "stdout",
     "output_type": "stream",
     "text": [
      "150 0.6133333333333333 0.54\n"
     ]
    },
    {
     "name": "stderr",
     "output_type": "stream",
     "text": [
      "  9%|▊         | 6/69 [02:15<23:34, 22.45s/it]"
     ]
    },
    {
     "name": "stdout",
     "output_type": "stream",
     "text": [
      "180 0.5333333333333333 0.5833333333333334\n"
     ]
    },
    {
     "name": "stderr",
     "output_type": "stream",
     "text": [
      " 10%|█         | 7/69 [02:37<23:00, 22.27s/it]"
     ]
    },
    {
     "name": "stdout",
     "output_type": "stream",
     "text": [
      "210 0.49047619047619045 0.5952380952380952\n"
     ]
    },
    {
     "name": "stderr",
     "output_type": "stream",
     "text": [
      " 12%|█▏        | 8/69 [02:58<22:23, 22.02s/it]"
     ]
    },
    {
     "name": "stdout",
     "output_type": "stream",
     "text": [
      "240 0.4791666666666667 0.6020833333333333\n"
     ]
    },
    {
     "name": "stderr",
     "output_type": "stream",
     "text": [
      " 13%|█▎        | 9/69 [03:20<21:53, 21.89s/it]"
     ]
    },
    {
     "name": "stdout",
     "output_type": "stream",
     "text": [
      "270 0.43333333333333335 0.6333333333333333\n"
     ]
    },
    {
     "name": "stderr",
     "output_type": "stream",
     "text": [
      " 14%|█▍        | 10/69 [03:42<21:27, 21.83s/it]"
     ]
    },
    {
     "name": "stdout",
     "output_type": "stream",
     "text": [
      "300 0.39666666666666667 0.6516666666666666\n"
     ]
    },
    {
     "name": "stderr",
     "output_type": "stream",
     "text": [
      " 16%|█▌        | 11/69 [04:03<21:03, 21.79s/it]"
     ]
    },
    {
     "name": "stdout",
     "output_type": "stream",
     "text": [
      "330 0.38181818181818183 0.6666666666666666\n"
     ]
    },
    {
     "name": "stderr",
     "output_type": "stream",
     "text": [
      " 17%|█▋        | 12/69 [04:25<20:35, 21.67s/it]"
     ]
    },
    {
     "name": "stdout",
     "output_type": "stream",
     "text": [
      "360 0.35555555555555557 0.6791666666666667\n"
     ]
    },
    {
     "name": "stderr",
     "output_type": "stream",
     "text": [
      " 19%|█▉        | 13/69 [04:46<20:09, 21.61s/it]"
     ]
    },
    {
     "name": "stdout",
     "output_type": "stream",
     "text": [
      "390 0.34615384615384615 0.6948717948717948\n"
     ]
    },
    {
     "name": "stderr",
     "output_type": "stream",
     "text": [
      " 20%|██        | 14/69 [05:09<20:01, 21.85s/it]"
     ]
    },
    {
     "name": "stdout",
     "output_type": "stream",
     "text": [
      "420 0.3333333333333333 0.7047619047619048\n"
     ]
    },
    {
     "name": "stderr",
     "output_type": "stream",
     "text": [
      " 22%|██▏       | 15/69 [05:31<19:48, 22.01s/it]"
     ]
    },
    {
     "name": "stdout",
     "output_type": "stream",
     "text": [
      "450 0.31777777777777777 0.7111111111111111\n"
     ]
    },
    {
     "name": "stderr",
     "output_type": "stream",
     "text": [
      " 23%|██▎       | 16/69 [05:53<19:20, 21.90s/it]"
     ]
    },
    {
     "name": "stdout",
     "output_type": "stream",
     "text": [
      "480 0.3104166666666667 0.715625\n"
     ]
    },
    {
     "name": "stderr",
     "output_type": "stream",
     "text": [
      " 25%|██▍       | 17/69 [06:14<18:50, 21.75s/it]"
     ]
    },
    {
     "name": "stdout",
     "output_type": "stream",
     "text": [
      "510 0.30392156862745096 0.7215686274509804\n"
     ]
    },
    {
     "name": "stderr",
     "output_type": "stream",
     "text": [
      " 26%|██▌       | 18/69 [06:36<18:36, 21.90s/it]"
     ]
    },
    {
     "name": "stdout",
     "output_type": "stream",
     "text": [
      "540 0.29074074074074074 0.725925925925926\n"
     ]
    },
    {
     "name": "stderr",
     "output_type": "stream",
     "text": [
      " 28%|██▊       | 19/69 [06:58<18:12, 21.85s/it]"
     ]
    },
    {
     "name": "stdout",
     "output_type": "stream",
     "text": [
      "570 0.2824561403508772 0.730701754385965\n"
     ]
    },
    {
     "name": "stderr",
     "output_type": "stream",
     "text": [
      " 29%|██▉       | 20/69 [07:19<17:44, 21.72s/it]"
     ]
    },
    {
     "name": "stdout",
     "output_type": "stream",
     "text": [
      "600 0.2733333333333333 0.7366666666666667\n"
     ]
    },
    {
     "name": "stderr",
     "output_type": "stream",
     "text": [
      " 30%|███       | 21/69 [07:41<17:18, 21.64s/it]"
     ]
    },
    {
     "name": "stdout",
     "output_type": "stream",
     "text": [
      "630 0.2619047619047619 0.7452380952380953\n"
     ]
    },
    {
     "name": "stderr",
     "output_type": "stream",
     "text": [
      " 32%|███▏      | 22/69 [08:03<17:00, 21.72s/it]"
     ]
    },
    {
     "name": "stdout",
     "output_type": "stream",
     "text": [
      "660 0.2590909090909091 0.7507575757575757\n"
     ]
    },
    {
     "name": "stderr",
     "output_type": "stream",
     "text": [
      " 33%|███▎      | 23/69 [08:25<16:40, 21.74s/it]"
     ]
    },
    {
     "name": "stdout",
     "output_type": "stream",
     "text": [
      "690 0.25217391304347825 0.7557971014492754\n"
     ]
    },
    {
     "name": "stderr",
     "output_type": "stream",
     "text": [
      " 35%|███▍      | 24/69 [08:46<16:17, 21.72s/it]"
     ]
    },
    {
     "name": "stdout",
     "output_type": "stream",
     "text": [
      "720 0.24305555555555555 0.7618055555555555\n"
     ]
    },
    {
     "name": "stderr",
     "output_type": "stream",
     "text": [
      " 36%|███▌      | 25/69 [09:08<15:54, 21.70s/it]"
     ]
    },
    {
     "name": "stdout",
     "output_type": "stream",
     "text": [
      "750 0.236 0.7686666666666667\n"
     ]
    },
    {
     "name": "stderr",
     "output_type": "stream",
     "text": [
      " 38%|███▊      | 26/69 [09:29<15:28, 21.59s/it]"
     ]
    },
    {
     "name": "stdout",
     "output_type": "stream",
     "text": [
      "780 0.22692307692307692 0.775\n"
     ]
    },
    {
     "name": "stderr",
     "output_type": "stream",
     "text": [
      " 39%|███▉      | 27/69 [09:51<15:03, 21.52s/it]"
     ]
    },
    {
     "name": "stdout",
     "output_type": "stream",
     "text": [
      "810 0.21975308641975308 0.778395061728395\n"
     ]
    },
    {
     "name": "stderr",
     "output_type": "stream",
     "text": [
      " 41%|████      | 28/69 [10:12<14:38, 21.44s/it]"
     ]
    },
    {
     "name": "stdout",
     "output_type": "stream",
     "text": [
      "840 0.2130952380952381 0.7833333333333333\n"
     ]
    },
    {
     "name": "stderr",
     "output_type": "stream",
     "text": [
      " 42%|████▏     | 29/69 [10:33<14:15, 21.38s/it]"
     ]
    },
    {
     "name": "stdout",
     "output_type": "stream",
     "text": [
      "870 0.20804597701149424 0.7879310344827586\n"
     ]
    },
    {
     "name": "stderr",
     "output_type": "stream",
     "text": [
      " 43%|████▎     | 30/69 [10:55<14:02, 21.59s/it]"
     ]
    },
    {
     "name": "stdout",
     "output_type": "stream",
     "text": [
      "900 0.20222222222222222 0.7933333333333333\n"
     ]
    },
    {
     "name": "stderr",
     "output_type": "stream",
     "text": [
      " 45%|████▍     | 31/69 [11:18<13:52, 21.91s/it]"
     ]
    },
    {
     "name": "stdout",
     "output_type": "stream",
     "text": [
      "930 0.1967741935483871 0.7983870967741935\n"
     ]
    },
    {
     "name": "stderr",
     "output_type": "stream",
     "text": [
      " 46%|████▋     | 32/69 [11:40<13:34, 22.01s/it]"
     ]
    },
    {
     "name": "stdout",
     "output_type": "stream",
     "text": [
      "960 0.19166666666666668 0.8041666666666667\n"
     ]
    },
    {
     "name": "stderr",
     "output_type": "stream",
     "text": [
      " 48%|████▊     | 33/69 [12:02<13:06, 21.85s/it]"
     ]
    },
    {
     "name": "stdout",
     "output_type": "stream",
     "text": [
      "990 0.18686868686868688 0.8085858585858586\n"
     ]
    },
    {
     "name": "stderr",
     "output_type": "stream",
     "text": [
      " 49%|████▉     | 34/69 [12:23<12:41, 21.74s/it]"
     ]
    },
    {
     "name": "stdout",
     "output_type": "stream",
     "text": [
      "1020 0.18333333333333332 0.8132352941176471\n"
     ]
    },
    {
     "name": "stderr",
     "output_type": "stream",
     "text": [
      " 51%|█████     | 35/69 [12:45<12:22, 21.83s/it]"
     ]
    },
    {
     "name": "stdout",
     "output_type": "stream",
     "text": [
      "1050 0.18 0.8166666666666667\n"
     ]
    },
    {
     "name": "stderr",
     "output_type": "stream",
     "text": [
      " 52%|█████▏    | 36/69 [13:06<11:55, 21.68s/it]"
     ]
    },
    {
     "name": "stdout",
     "output_type": "stream",
     "text": [
      "1080 0.175 0.8208333333333333\n"
     ]
    },
    {
     "name": "stderr",
     "output_type": "stream",
     "text": [
      " 54%|█████▎    | 37/69 [13:28<11:31, 21.60s/it]"
     ]
    },
    {
     "name": "stdout",
     "output_type": "stream",
     "text": [
      "1110 0.17207207207207206 0.8238738738738739\n"
     ]
    },
    {
     "name": "stderr",
     "output_type": "stream",
     "text": [
      " 55%|█████▌    | 38/69 [13:49<11:09, 21.60s/it]"
     ]
    },
    {
     "name": "stdout",
     "output_type": "stream",
     "text": [
      "1140 0.1675438596491228 0.8276315789473684\n"
     ]
    },
    {
     "name": "stderr",
     "output_type": "stream",
     "text": [
      " 57%|█████▋    | 39/69 [14:11<10:51, 21.73s/it]"
     ]
    },
    {
     "name": "stdout",
     "output_type": "stream",
     "text": [
      "1170 0.16495726495726495 0.8303418803418804\n"
     ]
    },
    {
     "name": "stderr",
     "output_type": "stream",
     "text": [
      " 58%|█████▊    | 40/69 [14:33<10:31, 21.79s/it]"
     ]
    },
    {
     "name": "stdout",
     "output_type": "stream",
     "text": [
      "1200 0.16166666666666665 0.8333333333333334\n"
     ]
    },
    {
     "name": "stderr",
     "output_type": "stream",
     "text": [
      " 59%|█████▉    | 41/69 [14:55<10:11, 21.84s/it]"
     ]
    },
    {
     "name": "stdout",
     "output_type": "stream",
     "text": [
      "1230 0.15934959349593497 0.8369918699186992\n"
     ]
    },
    {
     "name": "stderr",
     "output_type": "stream",
     "text": [
      " 61%|██████    | 42/69 [15:17<09:46, 21.73s/it]"
     ]
    },
    {
     "name": "stdout",
     "output_type": "stream",
     "text": [
      "1260 0.15714285714285714 0.8384920634920635\n"
     ]
    },
    {
     "name": "stderr",
     "output_type": "stream",
     "text": [
      " 62%|██████▏   | 43/69 [15:38<09:22, 21.64s/it]"
     ]
    },
    {
     "name": "stdout",
     "output_type": "stream",
     "text": [
      "1290 0.15503875968992248 0.8406976744186047\n"
     ]
    },
    {
     "name": "stderr",
     "output_type": "stream",
     "text": [
      " 64%|██████▍   | 44/69 [16:00<09:00, 21.61s/it]"
     ]
    },
    {
     "name": "stdout",
     "output_type": "stream",
     "text": [
      "1320 0.15303030303030302 0.843560606060606\n"
     ]
    },
    {
     "name": "stderr",
     "output_type": "stream",
     "text": [
      " 65%|██████▌   | 45/69 [16:21<08:36, 21.53s/it]"
     ]
    },
    {
     "name": "stdout",
     "output_type": "stream",
     "text": [
      "1350 0.1511111111111111 0.845925925925926\n"
     ]
    },
    {
     "name": "stderr",
     "output_type": "stream",
     "text": [
      " 67%|██████▋   | 46/69 [16:42<08:13, 21.45s/it]"
     ]
    },
    {
     "name": "stdout",
     "output_type": "stream",
     "text": [
      "1380 0.1492753623188406 0.8471014492753624\n"
     ]
    },
    {
     "name": "stderr",
     "output_type": "stream",
     "text": [
      " 68%|██████▊   | 47/69 [17:05<07:59, 21.77s/it]"
     ]
    },
    {
     "name": "stdout",
     "output_type": "stream",
     "text": [
      "1410 0.14609929078014183 0.8489361702127659\n"
     ]
    },
    {
     "name": "stderr",
     "output_type": "stream",
     "text": [
      " 70%|██████▉   | 48/69 [17:27<07:41, 21.96s/it]"
     ]
    },
    {
     "name": "stdout",
     "output_type": "stream",
     "text": [
      "1440 0.14305555555555555 0.8517361111111111\n"
     ]
    },
    {
     "name": "stderr",
     "output_type": "stream",
     "text": [
      " 71%|███████   | 49/69 [17:49<07:17, 21.86s/it]"
     ]
    },
    {
     "name": "stdout",
     "output_type": "stream",
     "text": [
      "1470 0.1401360544217687 0.8547619047619047\n"
     ]
    },
    {
     "name": "stderr",
     "output_type": "stream",
     "text": [
      " 72%|███████▏  | 50/69 [18:10<06:51, 21.64s/it]"
     ]
    },
    {
     "name": "stdout",
     "output_type": "stream",
     "text": [
      "1500 0.13733333333333334 0.8576666666666667\n"
     ]
    },
    {
     "name": "stderr",
     "output_type": "stream",
     "text": [
      " 74%|███████▍  | 51/69 [18:32<06:29, 21.64s/it]"
     ]
    },
    {
     "name": "stdout",
     "output_type": "stream",
     "text": [
      "1530 0.134640522875817 0.8601307189542484\n"
     ]
    },
    {
     "name": "stderr",
     "output_type": "stream",
     "text": [
      " 75%|███████▌  | 52/69 [18:53<06:06, 21.54s/it]"
     ]
    },
    {
     "name": "stdout",
     "output_type": "stream",
     "text": [
      "1560 0.13205128205128205 0.8628205128205129\n"
     ]
    },
    {
     "name": "stderr",
     "output_type": "stream",
     "text": [
      " 77%|███████▋  | 53/69 [19:14<05:44, 21.51s/it]"
     ]
    },
    {
     "name": "stdout",
     "output_type": "stream",
     "text": [
      "1590 0.12955974842767295 0.8650943396226415\n"
     ]
    },
    {
     "name": "stderr",
     "output_type": "stream",
     "text": [
      " 78%|███████▊  | 54/69 [19:36<05:22, 21.48s/it]"
     ]
    },
    {
     "name": "stdout",
     "output_type": "stream",
     "text": [
      "1620 0.1271604938271605 0.8675925925925926\n"
     ]
    },
    {
     "name": "stderr",
     "output_type": "stream",
     "text": [
      " 80%|███████▉  | 55/69 [19:58<05:02, 21.57s/it]"
     ]
    },
    {
     "name": "stdout",
     "output_type": "stream",
     "text": [
      "1650 0.12484848484848485 0.87\n"
     ]
    },
    {
     "name": "stderr",
     "output_type": "stream",
     "text": [
      " 81%|████████  | 56/69 [20:19<04:41, 21.63s/it]"
     ]
    },
    {
     "name": "stdout",
     "output_type": "stream",
     "text": [
      "1680 0.12261904761904761 0.8723214285714286\n"
     ]
    },
    {
     "name": "stderr",
     "output_type": "stream",
     "text": [
      " 83%|████████▎ | 57/69 [20:41<04:19, 21.64s/it]"
     ]
    },
    {
     "name": "stdout",
     "output_type": "stream",
     "text": [
      "1710 0.12046783625730995 0.874561403508772\n"
     ]
    },
    {
     "name": "stderr",
     "output_type": "stream",
     "text": [
      " 84%|████████▍ | 58/69 [21:03<03:58, 21.66s/it]"
     ]
    },
    {
     "name": "stdout",
     "output_type": "stream",
     "text": [
      "1740 0.11839080459770115 0.8761494252873563\n"
     ]
    },
    {
     "name": "stderr",
     "output_type": "stream",
     "text": [
      " 86%|████████▌ | 59/69 [21:24<03:36, 21.61s/it]"
     ]
    },
    {
     "name": "stdout",
     "output_type": "stream",
     "text": [
      "1770 0.11638418079096045 0.8779661016949153\n"
     ]
    },
    {
     "name": "stderr",
     "output_type": "stream",
     "text": [
      " 87%|████████▋ | 60/69 [21:45<03:13, 21.47s/it]"
     ]
    },
    {
     "name": "stdout",
     "output_type": "stream",
     "text": [
      "1800 0.11444444444444445 0.8797222222222222\n"
     ]
    },
    {
     "name": "stderr",
     "output_type": "stream",
     "text": [
      " 88%|████████▊ | 61/69 [22:07<02:51, 21.44s/it]"
     ]
    },
    {
     "name": "stdout",
     "output_type": "stream",
     "text": [
      "1830 0.11256830601092896 0.8816939890710382\n"
     ]
    },
    {
     "name": "stderr",
     "output_type": "stream",
     "text": [
      " 90%|████████▉ | 62/69 [22:28<02:29, 21.39s/it]"
     ]
    },
    {
     "name": "stdout",
     "output_type": "stream",
     "text": [
      "1860 0.110752688172043 0.8836021505376344\n"
     ]
    },
    {
     "name": "stderr",
     "output_type": "stream",
     "text": [
      " 91%|█████████▏| 63/69 [22:50<02:08, 21.45s/it]"
     ]
    },
    {
     "name": "stdout",
     "output_type": "stream",
     "text": [
      "1890 0.10899470899470899 0.8854497354497355\n"
     ]
    },
    {
     "name": "stderr",
     "output_type": "stream",
     "text": [
      " 93%|█████████▎| 64/69 [23:12<01:48, 21.73s/it]"
     ]
    },
    {
     "name": "stdout",
     "output_type": "stream",
     "text": [
      "1920 0.10729166666666666 0.8872395833333333\n"
     ]
    },
    {
     "name": "stderr",
     "output_type": "stream",
     "text": [
      " 94%|█████████▍| 65/69 [23:35<01:27, 21.96s/it]"
     ]
    },
    {
     "name": "stdout",
     "output_type": "stream",
     "text": [
      "1950 0.10564102564102563 0.8887179487179487\n"
     ]
    },
    {
     "name": "stderr",
     "output_type": "stream",
     "text": [
      " 96%|█████████▌| 66/69 [23:56<01:05, 21.88s/it]"
     ]
    },
    {
     "name": "stdout",
     "output_type": "stream",
     "text": [
      "1980 0.10505050505050505 0.8898989898989899\n"
     ]
    },
    {
     "name": "stderr",
     "output_type": "stream",
     "text": [
      " 97%|█████████▋| 67/69 [24:18<00:43, 21.77s/it]"
     ]
    },
    {
     "name": "stdout",
     "output_type": "stream",
     "text": [
      "2010 0.10348258706467661 0.891542288557214\n"
     ]
    },
    {
     "name": "stderr",
     "output_type": "stream",
     "text": [
      " 99%|█████████▊| 68/69 [24:40<00:21, 21.84s/it]"
     ]
    },
    {
     "name": "stdout",
     "output_type": "stream",
     "text": [
      "2040 0.10196078431372549 0.8928921568627451\n"
     ]
    },
    {
     "name": "stderr",
     "output_type": "stream",
     "text": [
      "100%|██████████| 69/69 [25:02<00:00, 21.84s/it]"
     ]
    },
    {
     "name": "stdout",
     "output_type": "stream",
     "text": [
      "2070 0.10048309178743961 0.8942028985507247\n"
     ]
    }
   ],
   "source": [
    "# train\n",
    "progress_bar = tqdm(range(int(num_training_steps/30)))\n",
    "\n",
    "flag=0\n",
    "for epoch in range(num_epochs):\n",
    "    for thelabels,text in train_dataloader:\n",
    "        model.train()\n",
    "        outputs = model(**text)\n",
    "        logits = outputs.logits\n",
    "        loss = loss_fn(logits.squeeze(), thelabels)\n",
    "        accelerator.backward(loss)\n",
    "        optimizer.step()\n",
    "        lr_scheduler.step()\n",
    "        optimizer.zero_grad()\n",
    "        flag+=1\n",
    "\n",
    "        loss_sum += int(loss.item())\n",
    "        a=get_accuracy(logits, thelabels)\n",
    "        accuracy_sum+=a\n",
    "\n",
    "        if flag%30==0:\n",
    "            print(flag,loss_sum/flag,accuracy_sum/flag)\n",
    "            loss_list.append(loss_sum/flag)\n",
    "            accuracy_list.append(accuracy_sum/flag)\n",
    "            progress_bar.update(1)"
   ]
  },
  {
   "cell_type": "code",
   "execution_count": null,
   "metadata": {},
   "outputs": [
    {
     "name": "stdout",
     "output_type": "stream",
     "text": [
      "[1.2, 1.1, 0.8111111111111111, 0.7166666666666667, 0.6133333333333333, 0.5333333333333333, 0.49047619047619045, 0.4791666666666667, 0.43333333333333335, 0.39666666666666667, 0.38181818181818183, 0.35555555555555557, 0.34615384615384615, 0.3333333333333333, 0.31777777777777777, 0.3104166666666667, 0.30392156862745096, 0.29074074074074074, 0.2824561403508772, 0.2733333333333333, 0.2619047619047619, 0.2590909090909091, 0.25217391304347825, 0.24305555555555555, 0.236, 0.22692307692307692, 0.21975308641975308, 0.2130952380952381, 0.20804597701149424, 0.20222222222222222, 0.1967741935483871, 0.19166666666666668, 0.18686868686868688, 0.18333333333333332, 0.18, 0.175, 0.17207207207207206, 0.1675438596491228, 0.16495726495726495, 0.16166666666666665, 0.15934959349593497, 0.15714285714285714, 0.15503875968992248, 0.15303030303030302, 0.1511111111111111, 0.1492753623188406, 0.14609929078014183, 0.14305555555555555, 0.1401360544217687, 0.13733333333333334, 0.134640522875817, 0.13205128205128205, 0.12955974842767295, 0.1271604938271605, 0.12484848484848485, 0.12261904761904761, 0.12046783625730995, 0.11839080459770115, 0.11638418079096045, 0.11444444444444445, 0.11256830601092896, 0.110752688172043, 0.10899470899470899, 0.10729166666666666, 0.10564102564102563, 0.10505050505050505, 0.10348258706467661, 0.10196078431372549, 0.10048309178743961]\n",
      "[0.43333333333333335, 0.4583333333333333, 0.49444444444444446, 0.5041666666666667, 0.54, 0.5833333333333334, 0.5952380952380952, 0.6020833333333333, 0.6333333333333333, 0.6516666666666666, 0.6666666666666666, 0.6791666666666667, 0.6948717948717948, 0.7047619047619048, 0.7111111111111111, 0.715625, 0.7215686274509804, 0.725925925925926, 0.730701754385965, 0.7366666666666667, 0.7452380952380953, 0.7507575757575757, 0.7557971014492754, 0.7618055555555555, 0.7686666666666667, 0.775, 0.778395061728395, 0.7833333333333333, 0.7879310344827586, 0.7933333333333333, 0.7983870967741935, 0.8041666666666667, 0.8085858585858586, 0.8132352941176471, 0.8166666666666667, 0.8208333333333333, 0.8238738738738739, 0.8276315789473684, 0.8303418803418804, 0.8333333333333334, 0.8369918699186992, 0.8384920634920635, 0.8406976744186047, 0.843560606060606, 0.845925925925926, 0.8471014492753624, 0.8489361702127659, 0.8517361111111111, 0.8547619047619047, 0.8576666666666667, 0.8601307189542484, 0.8628205128205129, 0.8650943396226415, 0.8675925925925926, 0.87, 0.8723214285714286, 0.874561403508772, 0.8761494252873563, 0.8779661016949153, 0.8797222222222222, 0.8816939890710382, 0.8836021505376344, 0.8854497354497355, 0.8872395833333333, 0.8887179487179487, 0.8898989898989899, 0.891542288557214, 0.8928921568627451, 0.8942028985507247]\n"
     ]
    },
    {
     "data": {
      "image/png": "[encoded data removed]",
      "text/plain": [
       "<Figure size 640x480 with 1 Axes>"
      ]
     },
     "metadata": {},
     "output_type": "display_data"
    }
   ],
   "source": [
    "print(loss_list)\n",
    "print(accuracy_list)\n",
    "\n",
    "import matplotlib.pyplot as plt\n",
    "\n",
    "# Plotting the data\n",
    "plt.plot(loss_list, label='Train_Loss', marker='o')\n",
    "plt.plot(accuracy_list, label='Train_Accuracy', marker='o')\n",
    "\n",
    "# Adding labels and title\n",
    "plt.xlabel('Epoch')\n",
    "plt.ylabel('Value')\n",
    "plt.title('Loss and Accuracy Over Epochs')\n",
    "\n",
    "# Adding a legend\n",
    "plt.legend()\n",
    "\n",
    "# Display the plot\n",
    "plt.show()\n"
   ]
  },
  {
   "cell_type": "code",
   "execution_count": 25,
   "metadata": {},
   "outputs": [
    {
     "name": "stdout",
     "output_type": "stream",
     "text": [
      "0.8563218390804598\n",
      "(0.9069767441860465, 0.8210526315789474, 0.861878453038674)\n",
      "(0.8068181818181818, 0.8987341772151899, 0.8502994011976047)\n"
     ]
    }
   ],
   "source": [
    "# test after train \n",
    "with torch.no_grad():\n",
    "    for labels,text in test_dataloader:\n",
    "        logits = model(**text).logits\n",
    "        the_labels=labels\n",
    "        print(get_accuracy(logits, the_labels))\n",
    "        print(get_precision_recall(logits, the_labels))\n",
    "        print(get_precision_recall(logits, the_labels,flag='false'))"
   ]
  },
  {
   "cell_type": "code",
   "execution_count": 26,
   "metadata": {},
   "outputs": [
    {
     "name": "stderr",
     "output_type": "stream",
     "text": [
      "/home/linux1/miniconda3/envs/night/lib/python3.9/site-packages/peft/tuners/lora/bnb.py:72: UserWarning: Merge lora module to 8-bit linear may get different generations due to rounding errors.\n",
      "  warnings.warn(\n"
     ]
    },
    {
     "data": {
      "text/plain": [
       "LlamaForSequenceClassification(\n",
       "  (model): LlamaModel(\n",
       "    (embed_tokens): Embedding(32000, 4096)\n",
       "    (layers): ModuleList(\n",
       "      (0-31): 32 x LlamaDecoderLayer(\n",
       "        (self_attn): LlamaAttention(\n",
       "          (q_proj): Linear8bitLt(in_features=4096, out_features=4096, bias=False)\n",
       "          (k_proj): Linear8bitLt(in_features=4096, out_features=4096, bias=False)\n",
       "          (v_proj): Linear8bitLt(in_features=4096, out_features=4096, bias=False)\n",
       "          (o_proj): Linear8bitLt(in_features=4096, out_features=4096, bias=False)\n",
       "          (rotary_emb): LlamaRotaryEmbedding()\n",
       "        )\n",
       "        (mlp): LlamaMLP(\n",
       "          (gate_proj): Linear8bitLt(in_features=4096, out_features=11008, bias=False)\n",
       "          (up_proj): Linear8bitLt(in_features=4096, out_features=11008, bias=False)\n",
       "          (down_proj): Linear8bitLt(in_features=11008, out_features=4096, bias=False)\n",
       "          (act_fn): SiLUActivation()\n",
       "        )\n",
       "        (input_layernorm): LlamaRMSNorm()\n",
       "        (post_attention_layernorm): LlamaRMSNorm()\n",
       "      )\n",
       "    )\n",
       "    (norm): LlamaRMSNorm()\n",
       "  )\n",
       "  (score): Linear(in_features=4096, out_features=2, bias=False)\n",
       ")"
      ]
     },
     "execution_count": 26,
     "metadata": {},
     "output_type": "execute_result"
    }
   ],
   "source": [
    "model.merge_and_unload()"
   ]
  },
  {
   "cell_type": "code",
   "execution_count": 27,
   "metadata": {},
   "outputs": [
    {
     "name": "stdout",
     "output_type": "stream",
     "text": [
      "0.8390804597701149\n",
      "(0.8941176470588236, 0.8, 0.8444444444444443)\n",
      "(0.7865168539325843, 0.8860759493670886, 0.8333333333333333)\n"
     ]
    }
   ],
   "source": [
    "with torch.no_grad():\n",
    "    for labels,text in test_dataloader:\n",
    "        logits = model(**text).logits\n",
    "        the_labels=labels\n",
    "        print(get_accuracy(logits, the_labels))\n",
    "        print(get_precision_recall(logits, the_labels))\n",
    "        print(get_precision_recall(logits, the_labels,flag='false'))"
   ]
  },
  {
   "cell_type": "markdown",
   "metadata": {},
   "source": [
    "# save"
   ]
  },
  {
   "cell_type": "code",
   "execution_count": 36,
   "metadata": {},
   "outputs": [],
   "source": [
    "save_dir= \"./models_hf/after_finetune_peft_7B_merge\"\n",
    "model.save_pretrained(save_dir,safe_safetensors=True)"
   ]
  },
  {
   "cell_type": "code",
   "execution_count": 29,
   "metadata": {},
   "outputs": [
    {
     "data": {
      "text/plain": [
       "('./models_hf/after_finetune_peft_7B_2merge/tokenizer/tokenizer_config.json',\n",
       " './models_hf/after_finetune_peft_7B_2merge/tokenizer/special_tokens_map.json',\n",
       " './models_hf/after_finetune_peft_7B_2merge/tokenizer/tokenizer.model',\n",
       " './models_hf/after_finetune_peft_7B_2merge/tokenizer/added_tokens.json',\n",
       " './models_hf/after_finetune_peft_7B_2merge/tokenizer/tokenizer.json')"
      ]
     },
     "execution_count": 29,
     "metadata": {},
     "output_type": "execute_result"
    }
   ],
   "source": [
    "save_dir_tokenizer= save_dir+\"/tokenizer\"\n",
    "tokenizer.save_pretrained(save_dir_tokenizer)"
   ]
  },
  {
   "cell_type": "code",
   "execution_count": null,
   "metadata": {},
   "outputs": [],
   "source": []
  },
  {
   "cell_type": "markdown",
   "metadata": {},
   "source": [
    "##  Problem: Loading the model after saving will encounter problems:\n",
    "### 1. save model before using model.merge_and_unload() : \n",
    "#### Reload success. But after saving and loading the model, the performance is not the same (almost as bad as the original model).\n",
    "### 2. save model after using model.merge_and_unload(): \n",
    "#### Reload fail. Get error: SafetensorError: Error while deserializing header: InvalidHeaderDeserialization\n",
    "\n",
    "This problem has not been solved yet.\n"
   ]
  },
  {
   "cell_type": "markdown",
   "metadata": {},
   "source": []
  }
 ],
 "metadata": {
  "kernelspec": {
   "display_name": "night",
   "language": "python",
   "name": "python3"
  },
  "language_info": {
   "codemirror_mode": {
    "name": "ipython",
    "version": 3
   },
   "file_extension": ".py",
   "mimetype": "text/x-python",
   "name": "python",
   "nbconvert_exporter": "python",
   "pygments_lexer": "ipython3",
   "version": "3.9.0"
  }
 },
 "nbformat": 4,
 "nbformat_minor": 2
}
